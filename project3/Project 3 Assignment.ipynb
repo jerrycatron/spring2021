{
 "metadata": {
  "language_info": {
   "codemirror_mode": {
    "name": "ipython",
    "version": 3
   },
   "file_extension": ".py",
   "mimetype": "text/x-python",
   "name": "python",
   "nbconvert_exporter": "python",
   "pygments_lexer": "ipython3",
   "version": "3.8.5"
  },
  "orig_nbformat": 2,
  "kernelspec": {
   "name": "python385jvsc74a57bd098b0a9b7b4eaaa670588a142fd0a9b87eaafe866f1db4228be72b4211d12040f",
   "display_name": "Python 3.8.5 64-bit ('base': conda)"
  }
 },
 "nbformat": 4,
 "nbformat_minor": 2,
 "cells": [
  {
   "source": [
    "# Project 3: Gap Minder\n",
    "\n",
    "### by Jerry Catron\n",
    "\n",
    "**For this project we will be working with data from gapminder.com, curated into a .tsv file by Jennifer Bryan. We will be using linear regression to \"explore how life expectancy has changed over 50 years across the world, and how economic measures like gross domestic product (GDP) are related to it.\"** "
   ],
   "cell_type": "markdown",
   "metadata": {}
  },
  {
   "source": [
    "### Setting up Libraries"
   ],
   "cell_type": "markdown",
   "metadata": {}
  },
  {
   "cell_type": "code",
   "execution_count": 2,
   "metadata": {},
   "outputs": [
    {
     "output_type": "error",
     "ename": "SyntaxError",
     "evalue": "invalid syntax (<ipython-input-2-a71c793e5a71>, line 6)",
     "traceback": [
      "\u001b[0;36m  File \u001b[0;32m\"<ipython-input-2-a71c793e5a71>\"\u001b[0;36m, line \u001b[0;32m6\u001b[0m\n\u001b[0;31m    import scikit-learn\u001b[0m\n\u001b[0m                 ^\u001b[0m\n\u001b[0;31mSyntaxError\u001b[0m\u001b[0;31m:\u001b[0m invalid syntax\n"
     ]
    }
   ],
   "source": [
    "# Importing Libraries\n",
    "import wget # To download data from Github to local storage\n",
    "import os # For accessing file system to set path for data\n",
    "import pandas as pd # For analyzing our data in a tabular format\n",
    "import numpy as np # For performing vectorized math operations on our data\n",
    "import scikit-learn\n",
    "import matplotlib.pyplot as plt # To create visualizations for our data\n",
    "import seaborn as sns # Library built on top of matplotlib that creates richer visualizations\n"
   ]
  },
  {
   "cell_type": "code",
   "execution_count": 2,
   "metadata": {},
   "outputs": [
    {
     "output_type": "error",
     "ename": "IndentationError",
     "evalue": "unexpected indent (<ipython-input-2-b73c88406801>, line 2)",
     "traceback": [
      "\u001b[0;36m  File \u001b[0;32m\"<ipython-input-2-b73c88406801>\"\u001b[0;36m, line \u001b[0;32m2\u001b[0m\n\u001b[0;31m    url = 'https://github.com/jennybc/gapminder/blob/master/data-raw/08_gap-every-five-years.tsv'\u001b[0m\n\u001b[0m    ^\u001b[0m\n\u001b[0;31mIndentationError\u001b[0m\u001b[0;31m:\u001b[0m unexpected indent\n"
     ]
    }
   ],
   "source": [
    "# Downloading data from Jennifer Bryan's GitHub\n",
    " url = 'https://github.com/jennybc/gapminder/blob/master/data-raw/08_gap-every-five-years.tsv'\n",
    " path = os.path.join(os.getcwd(), 'gapminder.tsv') # Setting path to the current folder. Using os module helps ensure proper formatting of path name\n",
    "wget.download(url, path)"
   ]
  },
  {
   "source": [
    "## Part 1: Regression analysis of Gapminder data"
   ],
   "cell_type": "markdown",
   "metadata": {}
  }
 ]
}