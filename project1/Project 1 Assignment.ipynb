{
 "cells": [
  {
   "source": [
    "# CMSC320 Project 1 - Jerry Catron\n",
    "***\n",
    "\n",
    "\n",
    "## Part 1: Data Scraping & Cleaning"
   ],
   "cell_type": "markdown",
   "metadata": {}
  },
  {
   "source": [
    "These are some of the python modules we will be using in this analysis. They are separated by use-case."
   ],
   "cell_type": "markdown",
   "metadata": {}
  },
  {
   "cell_type": "code",
   "execution_count": 1,
   "metadata": {},
   "outputs": [],
   "source": [
    "# Data Science\n",
    "import pandas as pd\n",
    "import numpy as np\n",
    "\n",
    "# Web-Scraping\n",
    "import requests\n",
    "from bs4 import BeautifulSoup\n",
    "\n",
    "# Misc\n",
    "import re\n",
    "import datetime"
   ]
  },
  {
   "source": [
    "### Step 1: Scrape Space Weather Live"
   ],
   "cell_type": "markdown",
   "metadata": {}
  },
  {
   "source": [
    "We will be scraping our first dataset from spaceweatherlive.com using python's 'requests' library for HTTP requests. First we will specify a User Agent in the header to imitate a normal browser. This helps us circum-navigate the website bot-protection. Then we make a GET request to the URL where the top 50 solar flares table is located. Once we have our HTML data from the webpage, we use the BeautifulSoup module to parse it."
   ],
   "cell_type": "markdown",
   "metadata": {}
  },
  {
   "cell_type": "code",
   "execution_count": 2,
   "metadata": {},
   "outputs": [],
   "source": [
    "headers = {'User-Agent': 'Mozilla/5.0 (Macintosh; Intel Mac OS X 10_15_7) AppleWebKit/537.36 (KHTML, like Gecko) Chrome/88.0.4324.150 Safari/537.36'}\n",
    "\n",
    "spaceweather_page = requests.get('https://www.spaceweatherlive.com/en/solar-activity/top-50-solar-flares.html', headers=headers)\n",
    "\n",
    "spaceweather_html_root = BeautifulSoup(spaceweather_page.text, 'lxml')\n",
    "\n"
   ]
  },
  {
   "source": [
    "Now that we've scraped our data, we need to clean it. First, we use CSS selectors and BeautifulSoup's select() method to extract the table from the raw HTML. Then we make use of pandas' read_html() function to convert the HTML table into a pandas DataFrame. \n",
    "\n",
    "Once we've created the DataFrame, we assign meaningful column names to correspond with Space Weather Live's table online. Also note that there is a 'MovieView archive' column of links from the HTML table. We won't neep that in our analysis, so we drop the column.\n",
    "\n",
    "Pandas head() function displays the first 5 rows of a DataFrame. We can use this to check that our columns are formatted as expected so far."
   ],
   "cell_type": "markdown",
   "metadata": {}
  },
  {
   "cell_type": "code",
   "execution_count": 3,
   "metadata": {},
   "outputs": [
    {
     "output_type": "display_data",
     "data": {
      "text/plain": "   rank x_class        date  region start_time max_time end_time\n0     1    X28+  2003/11/04     486      19:29    19:53    20:06\n1     2    X20+  2001/04/02    9393      21:32    21:51    22:03\n2     3  X17.2+  2003/10/28     486      09:51    11:10    11:24\n3     4    X17+  2005/09/07     808      17:17    17:40    18:03\n4     5   X14.4  2001/04/15    9415      13:19    13:50    13:55",
      "text/html": "<div>\n<style scoped>\n    .dataframe tbody tr th:only-of-type {\n        vertical-align: middle;\n    }\n\n    .dataframe tbody tr th {\n        vertical-align: top;\n    }\n\n    .dataframe thead th {\n        text-align: right;\n    }\n</style>\n<table border=\"1\" class=\"dataframe\">\n  <thead>\n    <tr style=\"text-align: right;\">\n      <th></th>\n      <th>rank</th>\n      <th>x_class</th>\n      <th>date</th>\n      <th>region</th>\n      <th>start_time</th>\n      <th>max_time</th>\n      <th>end_time</th>\n    </tr>\n  </thead>\n  <tbody>\n    <tr>\n      <th>0</th>\n      <td>1</td>\n      <td>X28+</td>\n      <td>2003/11/04</td>\n      <td>486</td>\n      <td>19:29</td>\n      <td>19:53</td>\n      <td>20:06</td>\n    </tr>\n    <tr>\n      <th>1</th>\n      <td>2</td>\n      <td>X20+</td>\n      <td>2001/04/02</td>\n      <td>9393</td>\n      <td>21:32</td>\n      <td>21:51</td>\n      <td>22:03</td>\n    </tr>\n    <tr>\n      <th>2</th>\n      <td>3</td>\n      <td>X17.2+</td>\n      <td>2003/10/28</td>\n      <td>486</td>\n      <td>09:51</td>\n      <td>11:10</td>\n      <td>11:24</td>\n    </tr>\n    <tr>\n      <th>3</th>\n      <td>4</td>\n      <td>X17+</td>\n      <td>2005/09/07</td>\n      <td>808</td>\n      <td>17:17</td>\n      <td>17:40</td>\n      <td>18:03</td>\n    </tr>\n    <tr>\n      <th>4</th>\n      <td>5</td>\n      <td>X14.4</td>\n      <td>2001/04/15</td>\n      <td>9415</td>\n      <td>13:19</td>\n      <td>13:50</td>\n      <td>13:55</td>\n    </tr>\n  </tbody>\n</table>\n</div>"
     },
     "metadata": {}
    }
   ],
   "source": [
    "spaceweather_html_table = spaceweather_html_root.select('table.table.table-striped.table-responsive-md')\n",
    "\n",
    "[swl_df] = pd.read_html(str(spaceweather_html_table), flavor = 'lxml')\n",
    "\n",
    "columns = ['rank', 'x_class', 'date', 'region', 'start_time', 'max_time', 'end_time', 'movie']\n",
    "swl_df.columns = columns\n",
    "\n",
    "swl_df_nomovie = swl_df.drop(['movie'], axis=1)\n",
    "\n",
    "display(swl_df_nomovie.head())"
   ]
  },
  {
   "source": [
    "### Step 2: Tidying Top 50 Solar Flares data"
   ],
   "cell_type": "markdown",
   "metadata": {}
  },
  {
   "source": [
    "Now that we've cleaned away our unwanted data, we need to tidy/transform some of the remaining data to make it more useful. Python's datetime objects make working with time easy and comparable. So in order to convert our separate date and time strings into a singular datetime object, we will first concatenate the date and time strings in a new column, then use a conversion method. In this part I used datetime.datetime.strptime(), although pd.to_datetime() could also be used."
   ],
   "cell_type": "markdown",
   "metadata": {}
  },
  {
   "cell_type": "code",
   "execution_count": 4,
   "metadata": {},
   "outputs": [
    {
     "output_type": "execute_result",
     "data": {
      "text/plain": [
       "   rank x_class  region      start_datetime        max_datetime  \\\n",
       "0     1    X28+     486 2003-11-04 19:29:00 2003-11-04 19:53:00   \n",
       "1     2    X20+    9393 2001-04-02 21:32:00 2001-04-02 21:51:00   \n",
       "2     3  X17.2+     486 2003-10-28 09:51:00 2003-10-28 11:10:00   \n",
       "3     4    X17+     808 2005-09-07 17:17:00 2005-09-07 17:40:00   \n",
       "4     5   X14.4    9415 2001-04-15 13:19:00 2001-04-15 13:50:00   \n",
       "\n",
       "         end_datetime  \n",
       "0 2003-11-04 20:06:00  \n",
       "1 2001-04-02 22:03:00  \n",
       "2 2003-10-28 11:24:00  \n",
       "3 2005-09-07 18:03:00  \n",
       "4 2001-04-15 13:55:00  "
      ],
      "text/html": "<div>\n<style scoped>\n    .dataframe tbody tr th:only-of-type {\n        vertical-align: middle;\n    }\n\n    .dataframe tbody tr th {\n        vertical-align: top;\n    }\n\n    .dataframe thead th {\n        text-align: right;\n    }\n</style>\n<table border=\"1\" class=\"dataframe\">\n  <thead>\n    <tr style=\"text-align: right;\">\n      <th></th>\n      <th>rank</th>\n      <th>x_class</th>\n      <th>region</th>\n      <th>start_datetime</th>\n      <th>max_datetime</th>\n      <th>end_datetime</th>\n    </tr>\n  </thead>\n  <tbody>\n    <tr>\n      <th>0</th>\n      <td>1</td>\n      <td>X28+</td>\n      <td>486</td>\n      <td>2003-11-04 19:29:00</td>\n      <td>2003-11-04 19:53:00</td>\n      <td>2003-11-04 20:06:00</td>\n    </tr>\n    <tr>\n      <th>1</th>\n      <td>2</td>\n      <td>X20+</td>\n      <td>9393</td>\n      <td>2001-04-02 21:32:00</td>\n      <td>2001-04-02 21:51:00</td>\n      <td>2001-04-02 22:03:00</td>\n    </tr>\n    <tr>\n      <th>2</th>\n      <td>3</td>\n      <td>X17.2+</td>\n      <td>486</td>\n      <td>2003-10-28 09:51:00</td>\n      <td>2003-10-28 11:10:00</td>\n      <td>2003-10-28 11:24:00</td>\n    </tr>\n    <tr>\n      <th>3</th>\n      <td>4</td>\n      <td>X17+</td>\n      <td>808</td>\n      <td>2005-09-07 17:17:00</td>\n      <td>2005-09-07 17:40:00</td>\n      <td>2005-09-07 18:03:00</td>\n    </tr>\n    <tr>\n      <th>4</th>\n      <td>5</td>\n      <td>X14.4</td>\n      <td>9415</td>\n      <td>2001-04-15 13:19:00</td>\n      <td>2001-04-15 13:50:00</td>\n      <td>2001-04-15 13:55:00</td>\n    </tr>\n  </tbody>\n</table>\n</div>"
     },
     "metadata": {},
     "execution_count": 4
    }
   ],
   "source": [
    "# makes a new copy to mutate\n",
    "swl_df_nomovie = swl_df_nomovie.copy()\n",
    "\n",
    "# Concatenating date column to time columns\n",
    "swl_df_nomovie['start_datetime'] = swl_df_nomovie['date'] + ' ' + swl_df_nomovie['start_time']\n",
    "swl_df_nomovie['max_datetime'] = swl_df_nomovie['date'] + ' ' + swl_df_nomovie['max_time']\n",
    "swl_df_nomovie['end_datetime'] = swl_df_nomovie['date'] + ' ' + swl_df_nomovie['end_time']\n",
    "\n",
    "# Drops the old date and time columns\n",
    "swl_df_datetime1 = swl_df_nomovie.drop(['date', 'start_time', 'max_time', 'end_time'], axis=1)\n",
    "\n",
    "# makes a new copy to mutate\n",
    "swl_df_datetime2 = swl_df_datetime1.copy()\n",
    "\n",
    "# Converting strings to datetime objects\n",
    "swl_df_datetime2['start_datetime'] = swl_df_datetime1['start_datetime'].map(lambda x: datetime.datetime.strptime(x, '%Y/%m/%d %H:%M'))\n",
    "swl_df_datetime2['max_datetime'] = swl_df_datetime1['max_datetime'].map(lambda x: datetime.datetime.strptime(x, '%Y/%m/%d %H:%M'))\n",
    "swl_df_datetime2['end_datetime'] = swl_df_datetime1['end_datetime'].map(lambda x: datetime.datetime.strptime(x, '%Y/%m/%d %H:%M'))\n",
    "\n",
    "swl_df_datetime2.head()\n"
   ]
  },
  {
   "source": [
    "And just like that we have a beautiful DataFrame of Space Weather Live's top 50 solar flares that we can perform analysis on."
   ],
   "cell_type": "markdown",
   "metadata": {}
  },
  {
   "source": [
    "## Step 3: Scraping NASA data"
   ],
   "cell_type": "markdown",
   "metadata": {}
  },
  {
   "source": [
    "For our next dataset we will be scraping from a webpage maintained by NASA, located at https://cdaw.gsfc.nasa.gov/CME_list/radio/waves_type2.html. We will use some of the same methods as above, but this data does not come prepackaged in a HTML table for us. Thus we will have to use some tricky string parsing to get the job done.\n",
    "\n",
    "For the NASA data we don't need a custom header, so we can just go right ahead and read the HTML from the URL using a GET request.\n",
    "Then we will use BeautifulSoup again to parse the raw HTML.\n",
    "\n",
    "The output of the BeautifulSoup is redacted due to PDF exporting issues with the prettify() function."
   ],
   "cell_type": "markdown",
   "metadata": {}
  },
  {
   "cell_type": "code",
   "execution_count": 5,
   "metadata": {},
   "outputs": [],
   "source": [
    "nasa_page = requests.get('https://cdaw.gsfc.nasa.gov/CME_list/radio/waves_type2.html')\n",
    "\n",
    "nasa_html_root = BeautifulSoup(nasa_page.text, 'lxml')\n",
    "\n",
    "# Prints outs the parsed HTML of the page starting from the root of the DOM\n",
    "# nasa_html_root.prettify()\n",
    "\n"
   ]
  },
  {
   "source": [
    "Now that we have the HTML, we need to clean it. All of the relevant information is stored in an HTML tag called 'pre', so use BeautifulSoup to extracct that tag and its inner text. We then split the text on the new line character '\\n'. This gives us a list of strings where each element corresponds to a row of the table."
   ],
   "cell_type": "markdown",
   "metadata": {}
  },
  {
   "cell_type": "code",
   "execution_count": 6,
   "metadata": {},
   "outputs": [],
   "source": [
    "nasa_html_pre = nasa_html_root.find('pre')\n",
    "\n",
    "nasa_pre_string_rows = nasa_html_pre.get_text().split(\"\\n\")\n"
   ]
  },
  {
   "source": [
    "Some of the rows contain extraneous data/comments from the page's maintainer, as well as tons of whitespace; so we will ignore the rows that don't start with a 1 or 2 (start_date), and from there we split on every whitespace.\n",
    "\n",
    "This leaves us with a list of lists representation of our table of rows, which is progress. However many of our lists (rows) contain empty strings which will mess up the format of our DataFrame, so we need to remove those using remove(). Similar to the Space Weather Live dataset, each row of the table contained a link to visualizations of the solar flare. All that's left is the text 'PHTX', which we can remove.\n",
    "\n",
    "Once all that is done our list of string lists is a valid form to pass in to pandas Dataframe constructor."
   ],
   "cell_type": "markdown",
   "metadata": {}
  },
  {
   "cell_type": "code",
   "execution_count": 7,
   "metadata": {},
   "outputs": [],
   "source": [
    "nasa_filtered_rows = [x.split(' ') for x in nasa_pre_string_rows if re.match(r'^[1-2]', x)]\n",
    "\n",
    "for row in nasa_filtered_rows:\n",
    "    row.remove('PHTX')\n",
    "    while '' in row:\n",
    "        row.remove('')\n",
    "\n",
    "nasa_df = pd.DataFrame(nasa_filtered_rows)"
   ]
  },
  {
   "source": [
    "## Step 4: Tidying NASA data"
   ],
   "cell_type": "markdown",
   "metadata": {}
  },
  {
   "source": [
    "So now that we have the NASA data in a DataFrame, let's take a quick look at the first 5 rows using head() to see if there are any glaring issues."
   ],
   "cell_type": "markdown",
   "metadata": {}
  },
  {
   "cell_type": "code",
   "execution_count": 8,
   "metadata": {},
   "outputs": [
    {
     "output_type": "execute_result",
     "data": {
      "text/plain": [
       "           0      1      2      3      4     5       6     7     8      9   \\\n",
       "0  1997/04/01  14:00  04/01  14:15   8000  4000  S25E16  8026  M1.3  04/01   \n",
       "1  1997/04/07  14:30  04/07  17:30  11000  1000  S28E19  8027  C6.8  04/07   \n",
       "2  1997/05/12  05:15  05/14  16:00  12000    80  N21W08  8038  C1.3  05/12   \n",
       "3  1997/05/21  20:20  05/21  22:00   5000   500  N05W12  8040  M1.3  05/21   \n",
       "4  1997/09/23  21:53  09/23  22:16   6000  2000  S29E25  8088  C1.4  09/23   \n",
       "\n",
       "   ...   13    14    15    16    17    18    19    20    21    22  \n",
       "0  ...  312  None  None  None  None  None  None  None  None  None  \n",
       "1  ...  878  None  None  None  None  None  None  None  None  None  \n",
       "2  ...  464  None  None  None  None  None  None  None  None  None  \n",
       "3  ...  296  None  None  None  None  None  None  None  None  None  \n",
       "4  ...  712  None  None  None  None  None  None  None  None  None  \n",
       "\n",
       "[5 rows x 23 columns]"
      ],
      "text/html": "<div>\n<style scoped>\n    .dataframe tbody tr th:only-of-type {\n        vertical-align: middle;\n    }\n\n    .dataframe tbody tr th {\n        vertical-align: top;\n    }\n\n    .dataframe thead th {\n        text-align: right;\n    }\n</style>\n<table border=\"1\" class=\"dataframe\">\n  <thead>\n    <tr style=\"text-align: right;\">\n      <th></th>\n      <th>0</th>\n      <th>1</th>\n      <th>2</th>\n      <th>3</th>\n      <th>4</th>\n      <th>5</th>\n      <th>6</th>\n      <th>7</th>\n      <th>8</th>\n      <th>9</th>\n      <th>...</th>\n      <th>13</th>\n      <th>14</th>\n      <th>15</th>\n      <th>16</th>\n      <th>17</th>\n      <th>18</th>\n      <th>19</th>\n      <th>20</th>\n      <th>21</th>\n      <th>22</th>\n    </tr>\n  </thead>\n  <tbody>\n    <tr>\n      <th>0</th>\n      <td>1997/04/01</td>\n      <td>14:00</td>\n      <td>04/01</td>\n      <td>14:15</td>\n      <td>8000</td>\n      <td>4000</td>\n      <td>S25E16</td>\n      <td>8026</td>\n      <td>M1.3</td>\n      <td>04/01</td>\n      <td>...</td>\n      <td>312</td>\n      <td>None</td>\n      <td>None</td>\n      <td>None</td>\n      <td>None</td>\n      <td>None</td>\n      <td>None</td>\n      <td>None</td>\n      <td>None</td>\n      <td>None</td>\n    </tr>\n    <tr>\n      <th>1</th>\n      <td>1997/04/07</td>\n      <td>14:30</td>\n      <td>04/07</td>\n      <td>17:30</td>\n      <td>11000</td>\n      <td>1000</td>\n      <td>S28E19</td>\n      <td>8027</td>\n      <td>C6.8</td>\n      <td>04/07</td>\n      <td>...</td>\n      <td>878</td>\n      <td>None</td>\n      <td>None</td>\n      <td>None</td>\n      <td>None</td>\n      <td>None</td>\n      <td>None</td>\n      <td>None</td>\n      <td>None</td>\n      <td>None</td>\n    </tr>\n    <tr>\n      <th>2</th>\n      <td>1997/05/12</td>\n      <td>05:15</td>\n      <td>05/14</td>\n      <td>16:00</td>\n      <td>12000</td>\n      <td>80</td>\n      <td>N21W08</td>\n      <td>8038</td>\n      <td>C1.3</td>\n      <td>05/12</td>\n      <td>...</td>\n      <td>464</td>\n      <td>None</td>\n      <td>None</td>\n      <td>None</td>\n      <td>None</td>\n      <td>None</td>\n      <td>None</td>\n      <td>None</td>\n      <td>None</td>\n      <td>None</td>\n    </tr>\n    <tr>\n      <th>3</th>\n      <td>1997/05/21</td>\n      <td>20:20</td>\n      <td>05/21</td>\n      <td>22:00</td>\n      <td>5000</td>\n      <td>500</td>\n      <td>N05W12</td>\n      <td>8040</td>\n      <td>M1.3</td>\n      <td>05/21</td>\n      <td>...</td>\n      <td>296</td>\n      <td>None</td>\n      <td>None</td>\n      <td>None</td>\n      <td>None</td>\n      <td>None</td>\n      <td>None</td>\n      <td>None</td>\n      <td>None</td>\n      <td>None</td>\n    </tr>\n    <tr>\n      <th>4</th>\n      <td>1997/09/23</td>\n      <td>21:53</td>\n      <td>09/23</td>\n      <td>22:16</td>\n      <td>6000</td>\n      <td>2000</td>\n      <td>S29E25</td>\n      <td>8088</td>\n      <td>C1.4</td>\n      <td>09/23</td>\n      <td>...</td>\n      <td>712</td>\n      <td>None</td>\n      <td>None</td>\n      <td>None</td>\n      <td>None</td>\n      <td>None</td>\n      <td>None</td>\n      <td>None</td>\n      <td>None</td>\n      <td>None</td>\n    </tr>\n  </tbody>\n</table>\n<p>5 rows × 23 columns</p>\n</div>"
     },
     "metadata": {},
     "execution_count": 8
    }
   ],
   "source": [
    "nasa_df.head()"
   ]
  },
  {
   "source": [
    "As you can see columns 14-22 have nothing in them! Also, the columns are labelled 0, 1, 2, ...\n",
    "We can't have this, so let's remedy it immediately using pandas DataFrame.iloc slicer and DataFrame.columns attribute"
   ],
   "cell_type": "markdown",
   "metadata": {}
  },
  {
   "cell_type": "code",
   "execution_count": 9,
   "metadata": {},
   "outputs": [],
   "source": [
    "# removing un-needed columns 12-23\n",
    "nasa_df = nasa_df.iloc[:, 0:14]\n",
    "\n",
    "nasa_df.columns = ['start_date', 'start_time', 'end_date','end_time', 'start_frequency', 'end_frequency', 'flare_location', 'flare_region', 'flare_class', 'cme_date', 'cme_time', 'cme_angle', 'cme_width', 'cme_speed']\n",
    "\n"
   ]
  },
  {
   "source": [
    "Now that we've trimmed and labelled the columns, let's deal with the missing data. Upon inital inspection of the webpage I noticed some values interpsresed in the table that the NASA researchers used when data was not properly recorded. For convenience sake we are going to set all such values to NaN (not a number).\n",
    "\n",
    "I've also included a code snippet that allows you to view all rows of the dataset to check for any missing values left after the recoding, but to enhance the brevity of this document the output will not be included."
   ],
   "cell_type": "markdown",
   "metadata": {}
  },
  {
   "cell_type": "code",
   "execution_count": 10,
   "metadata": {},
   "outputs": [],
   "source": [
    "nasa_df = nasa_df.applymap(lambda x: np.nan if x in ['EP', 'FILA', 'DIM', 'DSF', 'altr', '----', '-----', 'BACK', 'Back', '--/--', '--:--'] else x)\n",
    "\n",
    "# uncomment to output all rows to check NaN recoding\n",
    "# pd.options.display.max_rows = 1000\n",
    "# display(nasa_df)\n",
    "# pd.options.display.max_rows = 0"
   ]
  },
  {
   "source": [
    "Great, so we've dealt with the missing data, but our tidying doesn't end there. Upon further inspection you'll notice some of the columns have values that don't jive with the rest of the column. I'm talking about the 'Halo' observations in 'cme_angle' and the greater tahn symbols '>' in 'cme_width'. \n",
    "\n",
    "To properly represent our observation/variable structure, we will create new columns of boolean values. One will indicate if a solar flare is a Halo, and the other will indicate whether the cme width reported is a lower bound approximation, not an exact value.\n",
    "\n",
    "Once we've created those columns, we will populate the value for each row using some tricky pandas indexing. "
   ],
   "cell_type": "markdown",
   "metadata": {}
  },
  {
   "cell_type": "code",
   "execution_count": 11,
   "metadata": {},
   "outputs": [],
   "source": [
    "# inserting new column to indicate True/False for halo CME\n",
    "nasa_df.insert(loc=len(nasa_df.columns), column='is_halo', value=False)\n",
    "nasa_df.insert(loc=len(nasa_df.columns), column='width_lower_bound', value=False)\n",
    "\n",
    "# Creating 'is_halo' column for Halo CMEs observation to be set to true\n",
    "# Then setting cme_angle Halo observations to NaN to tidy the variable to only integers\n",
    "nasa_df.loc[:, 'is_halo'] = nasa_df['cme_angle'].str.contains('Halo', na=False)\n",
    "nasa_df.loc[nasa_df['cme_angle'] == 'Halo', 'cme_angle'] = np.nan\n",
    "\n",
    "# Creating 'width_lower_bound' column for uncertain width observations to be set to true\n",
    "# Then slicing cme_width  observations to remove '>' to tidy the variable to only integers\n",
    "nasa_df.loc[:, 'width_lower_bound'] = nasa_df['cme_width'].str.contains('>', na=False)\n",
    "nasa_df.loc[nasa_df['cme_width'].str.contains('>', na=False), 'cme_width'] = nasa_df['cme_width'].str.slice(start=1)\n"
   ]
  },
  {
   "source": [
    "Great! Now let's take a look at the results of all our hard work to ensure we were successful."
   ],
   "cell_type": "markdown",
   "metadata": {}
  },
  {
   "cell_type": "code",
   "execution_count": 12,
   "metadata": {},
   "outputs": [
    {
     "output_type": "execute_result",
     "data": {
      "text/plain": [
       "   start_date start_time end_date end_time start_frequency end_frequency  \\\n",
       "0  1997/04/01      14:00    04/01    14:15            8000          4000   \n",
       "1  1997/04/07      14:30    04/07    17:30           11000          1000   \n",
       "2  1997/05/12      05:15    05/14    16:00           12000            80   \n",
       "3  1997/05/21      20:20    05/21    22:00            5000           500   \n",
       "4  1997/09/23      21:53    09/23    22:16            6000          2000   \n",
       "\n",
       "  flare_location flare_region flare_class cme_date cme_time cme_angle  \\\n",
       "0         S25E16         8026        M1.3    04/01    15:18        74   \n",
       "1         S28E19         8027        C6.8    04/07    14:27       NaN   \n",
       "2         N21W08         8038        C1.3    05/12    05:30       NaN   \n",
       "3         N05W12         8040        M1.3    05/21    21:00       263   \n",
       "4         S29E25         8088        C1.4    09/23    22:02       133   \n",
       "\n",
       "  cme_width cme_speed  is_halo  width_lower_bound  \n",
       "0        79       312    False              False  \n",
       "1       360       878     True              False  \n",
       "2       360       464     True              False  \n",
       "3       165       296    False              False  \n",
       "4       155       712    False              False  "
      ],
      "text/html": "<div>\n<style scoped>\n    .dataframe tbody tr th:only-of-type {\n        vertical-align: middle;\n    }\n\n    .dataframe tbody tr th {\n        vertical-align: top;\n    }\n\n    .dataframe thead th {\n        text-align: right;\n    }\n</style>\n<table border=\"1\" class=\"dataframe\">\n  <thead>\n    <tr style=\"text-align: right;\">\n      <th></th>\n      <th>start_date</th>\n      <th>start_time</th>\n      <th>end_date</th>\n      <th>end_time</th>\n      <th>start_frequency</th>\n      <th>end_frequency</th>\n      <th>flare_location</th>\n      <th>flare_region</th>\n      <th>flare_class</th>\n      <th>cme_date</th>\n      <th>cme_time</th>\n      <th>cme_angle</th>\n      <th>cme_width</th>\n      <th>cme_speed</th>\n      <th>is_halo</th>\n      <th>width_lower_bound</th>\n    </tr>\n  </thead>\n  <tbody>\n    <tr>\n      <th>0</th>\n      <td>1997/04/01</td>\n      <td>14:00</td>\n      <td>04/01</td>\n      <td>14:15</td>\n      <td>8000</td>\n      <td>4000</td>\n      <td>S25E16</td>\n      <td>8026</td>\n      <td>M1.3</td>\n      <td>04/01</td>\n      <td>15:18</td>\n      <td>74</td>\n      <td>79</td>\n      <td>312</td>\n      <td>False</td>\n      <td>False</td>\n    </tr>\n    <tr>\n      <th>1</th>\n      <td>1997/04/07</td>\n      <td>14:30</td>\n      <td>04/07</td>\n      <td>17:30</td>\n      <td>11000</td>\n      <td>1000</td>\n      <td>S28E19</td>\n      <td>8027</td>\n      <td>C6.8</td>\n      <td>04/07</td>\n      <td>14:27</td>\n      <td>NaN</td>\n      <td>360</td>\n      <td>878</td>\n      <td>True</td>\n      <td>False</td>\n    </tr>\n    <tr>\n      <th>2</th>\n      <td>1997/05/12</td>\n      <td>05:15</td>\n      <td>05/14</td>\n      <td>16:00</td>\n      <td>12000</td>\n      <td>80</td>\n      <td>N21W08</td>\n      <td>8038</td>\n      <td>C1.3</td>\n      <td>05/12</td>\n      <td>05:30</td>\n      <td>NaN</td>\n      <td>360</td>\n      <td>464</td>\n      <td>True</td>\n      <td>False</td>\n    </tr>\n    <tr>\n      <th>3</th>\n      <td>1997/05/21</td>\n      <td>20:20</td>\n      <td>05/21</td>\n      <td>22:00</td>\n      <td>5000</td>\n      <td>500</td>\n      <td>N05W12</td>\n      <td>8040</td>\n      <td>M1.3</td>\n      <td>05/21</td>\n      <td>21:00</td>\n      <td>263</td>\n      <td>165</td>\n      <td>296</td>\n      <td>False</td>\n      <td>False</td>\n    </tr>\n    <tr>\n      <th>4</th>\n      <td>1997/09/23</td>\n      <td>21:53</td>\n      <td>09/23</td>\n      <td>22:16</td>\n      <td>6000</td>\n      <td>2000</td>\n      <td>S29E25</td>\n      <td>8088</td>\n      <td>C1.4</td>\n      <td>09/23</td>\n      <td>22:02</td>\n      <td>133</td>\n      <td>155</td>\n      <td>712</td>\n      <td>False</td>\n      <td>False</td>\n    </tr>\n  </tbody>\n</table>\n</div>"
     },
     "metadata": {},
     "execution_count": 12
    }
   ],
   "source": [
    "nasa_df.head()"
   ]
  },
  {
   "source": [
    "Just like the Space Weather Live data, we want to convert out separate date and time strings into singular datetime objects for each stage of the flare (start, end, cme). However this time the NASA researchers made it tough on us. They decided to use ISO 8601 format, which allows the time of day to range from 00:00-24:00. This is an issue, because python's datetime objects can't account for 24:00. So we need to do some handywork.\n",
    "\n",
    "I decomposed the date and times from each row into integers that could be easily compared and manipulated. When times with 24:00 are found, we change the time to 00:00, and advance to the next day. However there are some edge cases to deal with when advancing the day, such as starting a new month and year. \n",
    "\n",
    "Once I'm sure the strings are properly formatted, I can construct datetime objects using the decomposed variables for year, month, day, hour, and minute. "
   ],
   "cell_type": "markdown",
   "metadata": {}
  },
  {
   "cell_type": "code",
   "execution_count": 13,
   "metadata": {},
   "outputs": [
    {
     "output_type": "execute_result",
     "data": {
      "text/plain": [
       "    start_date start_time end_date end_time cme_date cme_time  \\\n",
       "0   1997/04/01      14:00    04/01    14:15    04/01    15:18   \n",
       "1   1997/04/07      14:30    04/07    17:30    04/07    14:27   \n",
       "2   1997/05/12      05:15    05/14    16:00    05/12    05:30   \n",
       "3   1997/05/21      20:20    05/21    22:00    05/21    21:00   \n",
       "4   1997/09/23      21:53    09/23    22:16    09/23    22:02   \n",
       "..         ...        ...      ...      ...      ...      ...   \n",
       "95  2000/11/12      14:25    11/12    14:40    11/12    14:50   \n",
       "96  2000/11/23      08:16    11/23    08:35    11/23    06:06   \n",
       "97  2000/11/23      21:00    11/23    21:06    11/23    21:30   \n",
       "98  2000/11/24      05:10    11/24    15:00    11/24    05:30   \n",
       "99  2000/11/24      15:25    11/24    22:00    11/24    15:30   \n",
       "\n",
       "        start_datetime        cme_datetime        end_datetime  \n",
       "0  1997-04-01 14:00:00 1997-04-01 15:18:00 1997-04-01 14:15:00  \n",
       "1  1997-04-07 14:30:00 1997-04-07 14:27:00 1997-04-07 17:30:00  \n",
       "2  1997-05-12 05:15:00 1997-05-12 05:30:00 1997-05-14 16:00:00  \n",
       "3  1997-05-21 20:20:00 1997-05-21 21:00:00 1997-05-21 22:00:00  \n",
       "4  1997-09-23 21:53:00 1997-09-23 22:02:00 1997-09-23 22:16:00  \n",
       "..                 ...                 ...                 ...  \n",
       "95 2000-11-12 14:25:00 2000-11-12 14:50:00 2000-11-12 14:40:00  \n",
       "96 2000-11-23 08:16:00 2000-11-23 06:06:00 2000-11-23 08:35:00  \n",
       "97 2000-11-23 21:00:00 2000-11-23 21:30:00 2000-11-23 21:06:00  \n",
       "98 2000-11-24 05:10:00 2000-11-24 05:30:00 2000-11-24 15:00:00  \n",
       "99 2000-11-24 15:25:00 2000-11-24 15:30:00 2000-11-24 22:00:00  \n",
       "\n",
       "[100 rows x 9 columns]"
      ],
      "text/html": "<div>\n<style scoped>\n    .dataframe tbody tr th:only-of-type {\n        vertical-align: middle;\n    }\n\n    .dataframe tbody tr th {\n        vertical-align: top;\n    }\n\n    .dataframe thead th {\n        text-align: right;\n    }\n</style>\n<table border=\"1\" class=\"dataframe\">\n  <thead>\n    <tr style=\"text-align: right;\">\n      <th></th>\n      <th>start_date</th>\n      <th>start_time</th>\n      <th>end_date</th>\n      <th>end_time</th>\n      <th>cme_date</th>\n      <th>cme_time</th>\n      <th>start_datetime</th>\n      <th>cme_datetime</th>\n      <th>end_datetime</th>\n    </tr>\n  </thead>\n  <tbody>\n    <tr>\n      <th>0</th>\n      <td>1997/04/01</td>\n      <td>14:00</td>\n      <td>04/01</td>\n      <td>14:15</td>\n      <td>04/01</td>\n      <td>15:18</td>\n      <td>1997-04-01 14:00:00</td>\n      <td>1997-04-01 15:18:00</td>\n      <td>1997-04-01 14:15:00</td>\n    </tr>\n    <tr>\n      <th>1</th>\n      <td>1997/04/07</td>\n      <td>14:30</td>\n      <td>04/07</td>\n      <td>17:30</td>\n      <td>04/07</td>\n      <td>14:27</td>\n      <td>1997-04-07 14:30:00</td>\n      <td>1997-04-07 14:27:00</td>\n      <td>1997-04-07 17:30:00</td>\n    </tr>\n    <tr>\n      <th>2</th>\n      <td>1997/05/12</td>\n      <td>05:15</td>\n      <td>05/14</td>\n      <td>16:00</td>\n      <td>05/12</td>\n      <td>05:30</td>\n      <td>1997-05-12 05:15:00</td>\n      <td>1997-05-12 05:30:00</td>\n      <td>1997-05-14 16:00:00</td>\n    </tr>\n    <tr>\n      <th>3</th>\n      <td>1997/05/21</td>\n      <td>20:20</td>\n      <td>05/21</td>\n      <td>22:00</td>\n      <td>05/21</td>\n      <td>21:00</td>\n      <td>1997-05-21 20:20:00</td>\n      <td>1997-05-21 21:00:00</td>\n      <td>1997-05-21 22:00:00</td>\n    </tr>\n    <tr>\n      <th>4</th>\n      <td>1997/09/23</td>\n      <td>21:53</td>\n      <td>09/23</td>\n      <td>22:16</td>\n      <td>09/23</td>\n      <td>22:02</td>\n      <td>1997-09-23 21:53:00</td>\n      <td>1997-09-23 22:02:00</td>\n      <td>1997-09-23 22:16:00</td>\n    </tr>\n    <tr>\n      <th>...</th>\n      <td>...</td>\n      <td>...</td>\n      <td>...</td>\n      <td>...</td>\n      <td>...</td>\n      <td>...</td>\n      <td>...</td>\n      <td>...</td>\n      <td>...</td>\n    </tr>\n    <tr>\n      <th>95</th>\n      <td>2000/11/12</td>\n      <td>14:25</td>\n      <td>11/12</td>\n      <td>14:40</td>\n      <td>11/12</td>\n      <td>14:50</td>\n      <td>2000-11-12 14:25:00</td>\n      <td>2000-11-12 14:50:00</td>\n      <td>2000-11-12 14:40:00</td>\n    </tr>\n    <tr>\n      <th>96</th>\n      <td>2000/11/23</td>\n      <td>08:16</td>\n      <td>11/23</td>\n      <td>08:35</td>\n      <td>11/23</td>\n      <td>06:06</td>\n      <td>2000-11-23 08:16:00</td>\n      <td>2000-11-23 06:06:00</td>\n      <td>2000-11-23 08:35:00</td>\n    </tr>\n    <tr>\n      <th>97</th>\n      <td>2000/11/23</td>\n      <td>21:00</td>\n      <td>11/23</td>\n      <td>21:06</td>\n      <td>11/23</td>\n      <td>21:30</td>\n      <td>2000-11-23 21:00:00</td>\n      <td>2000-11-23 21:30:00</td>\n      <td>2000-11-23 21:06:00</td>\n    </tr>\n    <tr>\n      <th>98</th>\n      <td>2000/11/24</td>\n      <td>05:10</td>\n      <td>11/24</td>\n      <td>15:00</td>\n      <td>11/24</td>\n      <td>05:30</td>\n      <td>2000-11-24 05:10:00</td>\n      <td>2000-11-24 05:30:00</td>\n      <td>2000-11-24 15:00:00</td>\n    </tr>\n    <tr>\n      <th>99</th>\n      <td>2000/11/24</td>\n      <td>15:25</td>\n      <td>11/24</td>\n      <td>22:00</td>\n      <td>11/24</td>\n      <td>15:30</td>\n      <td>2000-11-24 15:25:00</td>\n      <td>2000-11-24 15:30:00</td>\n      <td>2000-11-24 22:00:00</td>\n    </tr>\n  </tbody>\n</table>\n<p>100 rows × 9 columns</p>\n</div>"
     },
     "metadata": {},
     "execution_count": 13
    }
   ],
   "source": [
    "from calendar import monthrange\n",
    "\n",
    "# create temporary by extracting date and time columns\n",
    "dt_temp = nasa_df.loc[:, ['start_date', 'start_time', 'end_date', 'end_time', 'cme_date', 'cme_time']].copy()\n",
    "\n",
    "# custom function to convert each row to datetime objs\n",
    "def create_datetimes(row):\n",
    "\n",
    "    # regex patterns to extract date and time values for modification\n",
    "    pattern_time = '(\\d{2}):(\\d{2})'                # hh:mm\n",
    "    pattern_date2 = '(\\d{2})/(\\d{2})'               # MM/DD\n",
    "    pattern_date3 = '(\\d{4})/(\\d{2})/(\\d{2})'       # YYYY/MM/DD\n",
    "\n",
    "    # decomposing the regex matches into int variables\n",
    "    (start_year, start_month, start_day) = map(int, re.search(pattern_date3, row['start_date']).groups())\n",
    "    (start_hour, start_minute) = map(int, re.search(pattern_time, row['start_time']).groups())\n",
    "    (end_month, end_day) = map(int, re.search(pattern_date2, row['end_date']).groups())\n",
    "    (end_hour, end_minute) = map(int, re.search(pattern_time, row['end_time']).groups())\n",
    "    # some of the cme values are nan so we handle this by making the values NaT\n",
    "    try:\n",
    "        (cme_month, cme_day) = map(int, re.search(pattern_date2, row['cme_date']).groups())\n",
    "    except:\n",
    "        cme_month = cme_day = pd.NaT\n",
    "    try:\n",
    "        (cme_hour, cme_minute) = map(int, re.search(pattern_time, row['cme_time']).groups())\n",
    "    except:\n",
    "        cme_hour = cme_minute = pd.NaT \n",
    "\n",
    "    # advances the date by one day if time is 24:00\n",
    "    if start_hour == 24:\n",
    "        start_hour = 00\n",
    "        start_day += 1\n",
    "        # returns the number of days in given month\n",
    "        (weekday, num_days) = monthrange(start_year, start_month)\n",
    "        if start_day > num_days:\n",
    "            start_month += 1\n",
    "            start_day = 1\n",
    "            if start_month > 12:\n",
    "                start_month = 1\n",
    "                start_year += 1\n",
    "    end_year = start_year\n",
    "    if end_hour == 24:\n",
    "        end_hour = 00\n",
    "        end_day += 1\n",
    "        (weekday, num_days) = monthrange(end_year, end_month)\n",
    "        if end_day > num_days:\n",
    "            end_month += 1\n",
    "            end_day = 1\n",
    "            if end_month > 12:\n",
    "                end_month = 1\n",
    "                end_year += 1\n",
    "    if end_month < start_month:\n",
    "        end_year += 1\n",
    "    cme_year = start_year\n",
    "    if cme_day and cme_hour and cme_minute and cme_month and cme_year:\n",
    "        if cme_hour == 24:\n",
    "            cme_hour = 00\n",
    "            cme_day += 1\n",
    "            (weekday, num_days) = monthrange(cme_year, cme_month)\n",
    "            if cme_day > num_days:\n",
    "                cme_month += 1\n",
    "                cme_day = 1\n",
    "                if cme_month > 12:\n",
    "                    cme_month = 1\n",
    "        if cme_month < start_month:\n",
    "            cme_year += 1\n",
    "\n",
    "    # if one of the values is None, the datetime is set to Not a Time\n",
    "    try:\n",
    "        row['start_datetime'] = datetime.datetime(start_year, start_month, start_day, hour=start_hour, minute=start_minute)\n",
    "    except:\n",
    "        row['start_datetime'] = pd.NaT\n",
    "    try:\n",
    "        row['cme_datetime'] = datetime.datetime(cme_year, cme_month, cme_day, hour=cme_hour, minute=cme_minute)\n",
    "    except:\n",
    "        row['cme_datetime'] = pd.NaT\n",
    "    try:\n",
    "        row['end_datetime'] = datetime.datetime(end_year, end_month, end_day, hour=end_hour, minute=end_minute)\n",
    "    except:\n",
    "        row['end_datetime'] = pd.NaT    \n",
    "    \n",
    "    return row\n",
    "    \n",
    "mod_dt_temp = dt_temp.apply(create_datetimes, axis=1)\n",
    "\n",
    "mod_dt_temp.head(100)"
   ]
  },
  {
   "cell_type": "code",
   "execution_count": 14,
   "metadata": {},
   "outputs": [
    {
     "output_type": "execute_result",
     "data": {
      "text/plain": [
       "         start_datetime        end_datetime start_frequency end_frequency  \\\n",
       "0   1997-04-01 14:00:00 1997-04-01 14:15:00            8000          4000   \n",
       "1   1997-04-07 14:30:00 1997-04-07 17:30:00           11000          1000   \n",
       "2   1997-05-12 05:15:00 1997-05-14 16:00:00           12000            80   \n",
       "3   1997-05-21 20:20:00 1997-05-21 22:00:00            5000           500   \n",
       "4   1997-09-23 21:53:00 1997-09-23 22:16:00            6000          2000   \n",
       "..                  ...                 ...             ...           ...   \n",
       "513 2017-09-04 20:27:00 2017-09-05 04:54:00           14000           210   \n",
       "514 2017-09-06 12:05:00 2017-09-07 08:00:00           16000            70   \n",
       "515 2017-09-10 16:02:00 2017-09-11 06:50:00           16000           150   \n",
       "516 2017-09-12 07:38:00 2017-09-12 07:43:00           16000         13000   \n",
       "517 2017-09-17 11:45:00 2017-09-17 12:35:00           16000           900   \n",
       "\n",
       "    flare_location flare_region flare_class        cme_datetime cme_angle  \\\n",
       "0           S25E16         8026        M1.3 1997-04-01 15:18:00        74   \n",
       "1           S28E19         8027        C6.8 1997-04-07 14:27:00       NaN   \n",
       "2           N21W08         8038        C1.3 1997-05-12 05:30:00       NaN   \n",
       "3           N05W12         8040        M1.3 1997-05-21 21:00:00       263   \n",
       "4           S29E25         8088        C1.4 1997-09-23 22:02:00       133   \n",
       "..             ...          ...         ...                 ...       ...   \n",
       "513         S10W12        12673        M5.5 2017-09-04 20:12:00       NaN   \n",
       "514         S08W33        12673        X9.3 2017-09-06 12:24:00       NaN   \n",
       "515         S09W92          NaN        X8.3 2017-09-10 16:00:00       NaN   \n",
       "516         N08E48        12680        C3.0 2017-09-12 08:03:00       124   \n",
       "517        S08E170          NaN         NaN 2017-09-17 12:00:00       NaN   \n",
       "\n",
       "    cme_width cme_speed  is_halo  width_lower_bound  \n",
       "0          79       312    False              False  \n",
       "1         360       878     True              False  \n",
       "2         360       464     True              False  \n",
       "3         165       296    False              False  \n",
       "4         155       712    False              False  \n",
       "..        ...       ...      ...                ...  \n",
       "513       360      1418     True              False  \n",
       "514       360      1571     True              False  \n",
       "515       360      3163     True              False  \n",
       "516        96       252    False              False  \n",
       "517       360      1385     True              False  \n",
       "\n",
       "[518 rows x 13 columns]"
      ],
      "text/html": "<div>\n<style scoped>\n    .dataframe tbody tr th:only-of-type {\n        vertical-align: middle;\n    }\n\n    .dataframe tbody tr th {\n        vertical-align: top;\n    }\n\n    .dataframe thead th {\n        text-align: right;\n    }\n</style>\n<table border=\"1\" class=\"dataframe\">\n  <thead>\n    <tr style=\"text-align: right;\">\n      <th></th>\n      <th>start_datetime</th>\n      <th>end_datetime</th>\n      <th>start_frequency</th>\n      <th>end_frequency</th>\n      <th>flare_location</th>\n      <th>flare_region</th>\n      <th>flare_class</th>\n      <th>cme_datetime</th>\n      <th>cme_angle</th>\n      <th>cme_width</th>\n      <th>cme_speed</th>\n      <th>is_halo</th>\n      <th>width_lower_bound</th>\n    </tr>\n  </thead>\n  <tbody>\n    <tr>\n      <th>0</th>\n      <td>1997-04-01 14:00:00</td>\n      <td>1997-04-01 14:15:00</td>\n      <td>8000</td>\n      <td>4000</td>\n      <td>S25E16</td>\n      <td>8026</td>\n      <td>M1.3</td>\n      <td>1997-04-01 15:18:00</td>\n      <td>74</td>\n      <td>79</td>\n      <td>312</td>\n      <td>False</td>\n      <td>False</td>\n    </tr>\n    <tr>\n      <th>1</th>\n      <td>1997-04-07 14:30:00</td>\n      <td>1997-04-07 17:30:00</td>\n      <td>11000</td>\n      <td>1000</td>\n      <td>S28E19</td>\n      <td>8027</td>\n      <td>C6.8</td>\n      <td>1997-04-07 14:27:00</td>\n      <td>NaN</td>\n      <td>360</td>\n      <td>878</td>\n      <td>True</td>\n      <td>False</td>\n    </tr>\n    <tr>\n      <th>2</th>\n      <td>1997-05-12 05:15:00</td>\n      <td>1997-05-14 16:00:00</td>\n      <td>12000</td>\n      <td>80</td>\n      <td>N21W08</td>\n      <td>8038</td>\n      <td>C1.3</td>\n      <td>1997-05-12 05:30:00</td>\n      <td>NaN</td>\n      <td>360</td>\n      <td>464</td>\n      <td>True</td>\n      <td>False</td>\n    </tr>\n    <tr>\n      <th>3</th>\n      <td>1997-05-21 20:20:00</td>\n      <td>1997-05-21 22:00:00</td>\n      <td>5000</td>\n      <td>500</td>\n      <td>N05W12</td>\n      <td>8040</td>\n      <td>M1.3</td>\n      <td>1997-05-21 21:00:00</td>\n      <td>263</td>\n      <td>165</td>\n      <td>296</td>\n      <td>False</td>\n      <td>False</td>\n    </tr>\n    <tr>\n      <th>4</th>\n      <td>1997-09-23 21:53:00</td>\n      <td>1997-09-23 22:16:00</td>\n      <td>6000</td>\n      <td>2000</td>\n      <td>S29E25</td>\n      <td>8088</td>\n      <td>C1.4</td>\n      <td>1997-09-23 22:02:00</td>\n      <td>133</td>\n      <td>155</td>\n      <td>712</td>\n      <td>False</td>\n      <td>False</td>\n    </tr>\n    <tr>\n      <th>...</th>\n      <td>...</td>\n      <td>...</td>\n      <td>...</td>\n      <td>...</td>\n      <td>...</td>\n      <td>...</td>\n      <td>...</td>\n      <td>...</td>\n      <td>...</td>\n      <td>...</td>\n      <td>...</td>\n      <td>...</td>\n      <td>...</td>\n    </tr>\n    <tr>\n      <th>513</th>\n      <td>2017-09-04 20:27:00</td>\n      <td>2017-09-05 04:54:00</td>\n      <td>14000</td>\n      <td>210</td>\n      <td>S10W12</td>\n      <td>12673</td>\n      <td>M5.5</td>\n      <td>2017-09-04 20:12:00</td>\n      <td>NaN</td>\n      <td>360</td>\n      <td>1418</td>\n      <td>True</td>\n      <td>False</td>\n    </tr>\n    <tr>\n      <th>514</th>\n      <td>2017-09-06 12:05:00</td>\n      <td>2017-09-07 08:00:00</td>\n      <td>16000</td>\n      <td>70</td>\n      <td>S08W33</td>\n      <td>12673</td>\n      <td>X9.3</td>\n      <td>2017-09-06 12:24:00</td>\n      <td>NaN</td>\n      <td>360</td>\n      <td>1571</td>\n      <td>True</td>\n      <td>False</td>\n    </tr>\n    <tr>\n      <th>515</th>\n      <td>2017-09-10 16:02:00</td>\n      <td>2017-09-11 06:50:00</td>\n      <td>16000</td>\n      <td>150</td>\n      <td>S09W92</td>\n      <td>NaN</td>\n      <td>X8.3</td>\n      <td>2017-09-10 16:00:00</td>\n      <td>NaN</td>\n      <td>360</td>\n      <td>3163</td>\n      <td>True</td>\n      <td>False</td>\n    </tr>\n    <tr>\n      <th>516</th>\n      <td>2017-09-12 07:38:00</td>\n      <td>2017-09-12 07:43:00</td>\n      <td>16000</td>\n      <td>13000</td>\n      <td>N08E48</td>\n      <td>12680</td>\n      <td>C3.0</td>\n      <td>2017-09-12 08:03:00</td>\n      <td>124</td>\n      <td>96</td>\n      <td>252</td>\n      <td>False</td>\n      <td>False</td>\n    </tr>\n    <tr>\n      <th>517</th>\n      <td>2017-09-17 11:45:00</td>\n      <td>2017-09-17 12:35:00</td>\n      <td>16000</td>\n      <td>900</td>\n      <td>S08E170</td>\n      <td>NaN</td>\n      <td>NaN</td>\n      <td>2017-09-17 12:00:00</td>\n      <td>NaN</td>\n      <td>360</td>\n      <td>1385</td>\n      <td>True</td>\n      <td>False</td>\n    </tr>\n  </tbody>\n</table>\n<p>518 rows × 13 columns</p>\n</div>"
     },
     "metadata": {},
     "execution_count": 14
    }
   ],
   "source": [
    "nasa_df_dt = pd.concat([nasa_df, mod_dt_temp], axis=1)\n",
    "nasa_df = nasa_df_dt.drop(['start_date','start_time','end_date', 'end_time', 'cme_date', 'cme_time'], axis=1)\n",
    "nasa_df = nasa_df[['start_datetime', 'end_datetime', 'start_frequency', 'end_frequency', 'flare_location', 'flare_region',\n",
    "       'flare_class', 'cme_datetime', 'cme_angle', 'cme_width', 'cme_speed', 'is_halo',\n",
    "       'width_lower_bound']]\n",
    "nasa_df"
   ]
  },
  {
   "source": [
    "After adding in our new datetimes through concatenation and dropping the duplicate/un-needed columns, we finally have a clean and tidy NASA dataset ready for analysis."
   ],
   "cell_type": "markdown",
   "metadata": {}
  },
  {
   "source": [
    "# Part 2: Analysis"
   ],
   "cell_type": "markdown",
   "metadata": {}
  },
  {
   "source": [
    "### Question 1"
   ],
   "cell_type": "markdown",
   "metadata": {}
  },
  {
   "source": [
    "The first question in the analysis asks us to find the top 50 solar flares in the NASA data, and see if they match the top 50 dataset from Space Weather Live."
   ],
   "cell_type": "markdown",
   "metadata": {}
  },
  {
   "cell_type": "code",
   "execution_count": 15,
   "metadata": {},
   "outputs": [],
   "source": [
    "# sorting all the data by flare class descending so X{max float} is highest\n",
    "nasa_df_sorted = nasa_df.sort_values(by='flare_class', ascending=False)\n",
    "\n",
    "# taking the first 50 rows so we only have X-class flares to work with\n",
    "nasa_df_sorted2 = nasa_df_sorted.iloc[:50]\n",
    "\n",
    "# creating a sorted series accounting for incorrectly formatted 'X28' etc.\n",
    "# using custom callable key function that strips the X and converts digits to a float\n",
    "def custom_sort(x):\n",
    "    return x.map(lambda y: float(y[1:]))\n",
    "\n",
    "nasa_df_sorted3 = nasa_df_sorted2.sort_values(by='flare_class', key=custom_sort, ascending=False)\n",
    "\n",
    "# resetting index to match the new rankings\n",
    "nasa_df_sorted4 = nasa_df_sorted3.reset_index(drop=True)\n",
    "\n",
    "# adding a rank column to compare to SWL\n",
    "nasa_df_sorted4['rank'] = nasa_df_sorted4.index + 1\n",
    "\n",
    "# dropping columns to match output of SWL table for comparison\n",
    "nasa_top50 = nasa_df_sorted4.loc[:,['rank', 'flare_class', 'flare_region', 'start_datetime', 'cme_datetime', 'end_datetime']]"
   ]
  },
  {
   "source": [
    "As we can see in the tables below, we were unable to replicate the Space Weather Live Top 50 solar flares exactly. The top 3 match up, but after that there are discrepancies in the dates and classification of the flares."
   ],
   "cell_type": "markdown",
   "metadata": {}
  },
  {
   "cell_type": "code",
   "execution_count": 16,
   "metadata": {},
   "outputs": [
    {
     "output_type": "display_data",
     "data": {
      "text/plain": "    rank flare_class flare_region      start_datetime        cme_datetime  \\\n0      1        X28.        10486 2003-11-04 20:00:00 2003-11-04 19:54:00   \n1      2        X20.         9393 2001-04-02 22:05:00 2001-04-02 22:06:00   \n2      3        X17.        10486 2003-10-28 11:10:00 2003-10-28 11:30:00   \n3      4        X14.         9415 2001-04-15 14:05:00 2001-04-15 14:06:00   \n4      5        X10.        10486 2003-10-29 20:55:00 2003-10-29 20:54:00   \n5      6        X9.4         8100 1997-11-06 12:20:00 1997-11-06 12:10:00   \n6      7        X9.3        12673 2017-09-06 12:05:00 2017-09-06 12:24:00   \n7      8        X9.0        10930 2006-12-05 10:50:00                 NaT   \n8      9        X8.3          NaN 2017-09-10 16:02:00 2017-09-10 16:00:00   \n9     10        X8.3        10486 2003-11-02 17:30:00 2003-11-02 17:30:00   \n10    11        X7.1        10720 2005-01-20 07:15:00 2005-01-20 06:54:00   \n11    12        X6.9        11263 2011-08-09 08:20:00 2011-08-09 08:12:00   \n12    13        X6.5        10930 2006-12-06 19:00:00                 NaT   \n13    14        X6.2        10808 2005-09-09 19:45:00 2005-09-09 19:48:00   \n14    15        X5.7         9077 2000-07-14 10:30:00 2000-07-14 10:54:00   \n15    16        X5.6         9415 2001-04-06 19:35:00 2001-04-06 19:30:00   \n16    17        X5.4        11429 2012-03-07 01:00:00 2012-03-07 00:24:00   \n17    18        X5.3         9591 2001-08-25 16:50:00 2001-08-25 16:50:00   \n18    19        X4.9        11990 2014-02-25 00:56:00 2014-02-25 01:25:00   \n19    20        X4.8        10039 2002-07-23 00:50:00 2002-07-23 00:42:00   \n20    21        X4.0         9236 2000-11-26 17:00:00 2000-11-26 17:06:00   \n21    22        X3.9        10488 2003-11-03 10:00:00 2003-11-03 10:06:00   \n22    23        X3.8        10720 2005-01-17 10:00:00 2005-01-17 09:54:00   \n23    24        X3.6        10365 2003-05-28 01:00:00 2003-05-28 00:50:00   \n24    25        X3.4        10930 2006-12-13 02:45:00 2006-12-13 02:54:00   \n25    26        X3.4         9756 2001-12-28 20:35:00 2001-12-28 20:30:00   \n26    27        X3.3        10039 2002-07-20 21:30:00 2002-07-20 22:06:00   \n27    28        X3.2        11748 2013-05-14 01:16:00 2013-05-14 01:25:00   \n28    29        X3.1        10069 2002-08-24 01:45:00 2002-08-24 01:27:00   \n29    30        X2.8        11748 2013-05-13 16:15:00 2013-05-13 16:07:00   \n30    31        X2.7         8210 1998-05-06 08:25:00 1998-05-06 08:29:00   \n31    32        X2.7        12339 2015-05-05 22:24:00 2015-05-05 22:24:00   \n32    33        X2.7        10488 2003-11-03 01:15:00 2003-11-03 01:59:00   \n33    34        X2.6         9632 2001-09-24 10:45:00 2001-09-24 10:30:00   \n34    35        X2.6         8113 1997-11-27 13:30:00 1997-11-27 13:56:00   \n35    36        X2.6        10720 2005-01-15 23:00:00 2005-01-15 23:06:00   \n36    37        X2.5        10696 2004-11-10 02:25:00 2004-11-10 02:26:00   \n37    38        X2.3         9415 2001-04-10 05:24:00 2001-04-10 05:30:00   \n38    39        X2.3         9026 2000-06-06 15:20:00 2000-06-06 15:54:00   \n39    40        X2.3         9236 2000-11-24 15:25:00 2000-11-24 15:30:00   \n40    41        X2.2        11158 2011-02-15 02:10:00 2011-02-15 02:24:00   \n41    42        X2.1        10808 2005-09-10 21:45:00 2005-09-10 21:52:00   \n42    43        X2.1        11283 2011-09-06 22:30:00 2011-09-06 23:05:00   \n43    44        X2.1        11882 2013-10-25 15:08:00 2013-10-25 15:12:00   \n44    45        X2.1         8100 1997-11-04 06:00:00 1997-11-04 06:10:00   \n45    46        X2.0         9236 2000-11-24 05:10:00 2000-11-24 05:30:00   \n46    47        X2.0        10720 2005-01-17 09:25:00 2005-01-17 09:30:00   \n47    48        X2.0         9415 2001-04-12 10:20:00 2001-04-12 10:31:00   \n48    49        X2.0        10696 2004-11-07 16:25:00 2004-11-07 16:54:00   \n49    50        X1.9         9236 2000-11-25 19:00:00 2000-11-25 19:31:00   \n\n          end_datetime  \n0  2003-11-05 00:00:00  \n1  2001-04-03 02:30:00  \n2  2003-10-30 00:00:00  \n3  2001-04-16 13:00:00  \n4  2003-10-30 00:00:00  \n5  1997-11-07 08:30:00  \n6  2017-09-07 08:00:00  \n7  2006-12-05 20:00:00  \n8  2017-09-11 06:50:00  \n9  2003-11-03 01:00:00  \n10 2005-01-20 16:30:00  \n11 2011-08-09 08:35:00  \n12 2006-12-09 00:00:00  \n13 2005-09-09 22:00:00  \n14 2000-07-15 14:30:00  \n15 2001-04-07 01:50:00  \n16 2012-03-08 19:00:00  \n17 2001-08-25 23:00:00  \n18 2014-02-25 11:28:00  \n19 2002-07-23 04:00:00  \n20 2000-11-26 17:15:00  \n21 2003-11-03 12:30:00  \n22 2005-01-17 10:35:00  \n23 2003-05-29 00:30:00  \n24 2006-12-13 10:40:00  \n25 2001-12-29 03:00:00  \n26 2002-07-20 22:20:00  \n27 2013-05-14 08:20:00  \n28 2002-08-24 03:25:00  \n29 2013-05-13 19:10:00  \n30 1998-05-06 08:35:00  \n31 2015-05-05 23:14:00  \n32 2003-11-03 01:25:00  \n33 2001-09-25 20:00:00  \n34 1997-11-27 14:00:00  \n35 2005-01-17 00:00:00  \n36 2004-11-10 03:40:00  \n37 2001-04-11 00:00:00  \n38 2000-06-08 09:00:00  \n39 2000-11-24 22:00:00  \n40 2011-02-15 07:00:00  \n41 2005-09-11 01:00:00  \n42 2011-09-07 15:40:00  \n43 2013-10-25 22:32:00  \n44 1997-11-05 04:30:00  \n45 2000-11-24 15:00:00  \n46 2005-01-17 16:00:00  \n47 2001-04-12 10:40:00  \n48 2004-11-08 20:00:00  \n49 2000-11-25 19:35:00  ",
      "text/html": "<div>\n<style scoped>\n    .dataframe tbody tr th:only-of-type {\n        vertical-align: middle;\n    }\n\n    .dataframe tbody tr th {\n        vertical-align: top;\n    }\n\n    .dataframe thead th {\n        text-align: right;\n    }\n</style>\n<table border=\"1\" class=\"dataframe\">\n  <thead>\n    <tr style=\"text-align: right;\">\n      <th></th>\n      <th>rank</th>\n      <th>flare_class</th>\n      <th>flare_region</th>\n      <th>start_datetime</th>\n      <th>cme_datetime</th>\n      <th>end_datetime</th>\n    </tr>\n  </thead>\n  <tbody>\n    <tr>\n      <th>0</th>\n      <td>1</td>\n      <td>X28.</td>\n      <td>10486</td>\n      <td>2003-11-04 20:00:00</td>\n      <td>2003-11-04 19:54:00</td>\n      <td>2003-11-05 00:00:00</td>\n    </tr>\n    <tr>\n      <th>1</th>\n      <td>2</td>\n      <td>X20.</td>\n      <td>9393</td>\n      <td>2001-04-02 22:05:00</td>\n      <td>2001-04-02 22:06:00</td>\n      <td>2001-04-03 02:30:00</td>\n    </tr>\n    <tr>\n      <th>2</th>\n      <td>3</td>\n      <td>X17.</td>\n      <td>10486</td>\n      <td>2003-10-28 11:10:00</td>\n      <td>2003-10-28 11:30:00</td>\n      <td>2003-10-30 00:00:00</td>\n    </tr>\n    <tr>\n      <th>3</th>\n      <td>4</td>\n      <td>X14.</td>\n      <td>9415</td>\n      <td>2001-04-15 14:05:00</td>\n      <td>2001-04-15 14:06:00</td>\n      <td>2001-04-16 13:00:00</td>\n    </tr>\n    <tr>\n      <th>4</th>\n      <td>5</td>\n      <td>X10.</td>\n      <td>10486</td>\n      <td>2003-10-29 20:55:00</td>\n      <td>2003-10-29 20:54:00</td>\n      <td>2003-10-30 00:00:00</td>\n    </tr>\n    <tr>\n      <th>5</th>\n      <td>6</td>\n      <td>X9.4</td>\n      <td>8100</td>\n      <td>1997-11-06 12:20:00</td>\n      <td>1997-11-06 12:10:00</td>\n      <td>1997-11-07 08:30:00</td>\n    </tr>\n    <tr>\n      <th>6</th>\n      <td>7</td>\n      <td>X9.3</td>\n      <td>12673</td>\n      <td>2017-09-06 12:05:00</td>\n      <td>2017-09-06 12:24:00</td>\n      <td>2017-09-07 08:00:00</td>\n    </tr>\n    <tr>\n      <th>7</th>\n      <td>8</td>\n      <td>X9.0</td>\n      <td>10930</td>\n      <td>2006-12-05 10:50:00</td>\n      <td>NaT</td>\n      <td>2006-12-05 20:00:00</td>\n    </tr>\n    <tr>\n      <th>8</th>\n      <td>9</td>\n      <td>X8.3</td>\n      <td>NaN</td>\n      <td>2017-09-10 16:02:00</td>\n      <td>2017-09-10 16:00:00</td>\n      <td>2017-09-11 06:50:00</td>\n    </tr>\n    <tr>\n      <th>9</th>\n      <td>10</td>\n      <td>X8.3</td>\n      <td>10486</td>\n      <td>2003-11-02 17:30:00</td>\n      <td>2003-11-02 17:30:00</td>\n      <td>2003-11-03 01:00:00</td>\n    </tr>\n    <tr>\n      <th>10</th>\n      <td>11</td>\n      <td>X7.1</td>\n      <td>10720</td>\n      <td>2005-01-20 07:15:00</td>\n      <td>2005-01-20 06:54:00</td>\n      <td>2005-01-20 16:30:00</td>\n    </tr>\n    <tr>\n      <th>11</th>\n      <td>12</td>\n      <td>X6.9</td>\n      <td>11263</td>\n      <td>2011-08-09 08:20:00</td>\n      <td>2011-08-09 08:12:00</td>\n      <td>2011-08-09 08:35:00</td>\n    </tr>\n    <tr>\n      <th>12</th>\n      <td>13</td>\n      <td>X6.5</td>\n      <td>10930</td>\n      <td>2006-12-06 19:00:00</td>\n      <td>NaT</td>\n      <td>2006-12-09 00:00:00</td>\n    </tr>\n    <tr>\n      <th>13</th>\n      <td>14</td>\n      <td>X6.2</td>\n      <td>10808</td>\n      <td>2005-09-09 19:45:00</td>\n      <td>2005-09-09 19:48:00</td>\n      <td>2005-09-09 22:00:00</td>\n    </tr>\n    <tr>\n      <th>14</th>\n      <td>15</td>\n      <td>X5.7</td>\n      <td>9077</td>\n      <td>2000-07-14 10:30:00</td>\n      <td>2000-07-14 10:54:00</td>\n      <td>2000-07-15 14:30:00</td>\n    </tr>\n    <tr>\n      <th>15</th>\n      <td>16</td>\n      <td>X5.6</td>\n      <td>9415</td>\n      <td>2001-04-06 19:35:00</td>\n      <td>2001-04-06 19:30:00</td>\n      <td>2001-04-07 01:50:00</td>\n    </tr>\n    <tr>\n      <th>16</th>\n      <td>17</td>\n      <td>X5.4</td>\n      <td>11429</td>\n      <td>2012-03-07 01:00:00</td>\n      <td>2012-03-07 00:24:00</td>\n      <td>2012-03-08 19:00:00</td>\n    </tr>\n    <tr>\n      <th>17</th>\n      <td>18</td>\n      <td>X5.3</td>\n      <td>9591</td>\n      <td>2001-08-25 16:50:00</td>\n      <td>2001-08-25 16:50:00</td>\n      <td>2001-08-25 23:00:00</td>\n    </tr>\n    <tr>\n      <th>18</th>\n      <td>19</td>\n      <td>X4.9</td>\n      <td>11990</td>\n      <td>2014-02-25 00:56:00</td>\n      <td>2014-02-25 01:25:00</td>\n      <td>2014-02-25 11:28:00</td>\n    </tr>\n    <tr>\n      <th>19</th>\n      <td>20</td>\n      <td>X4.8</td>\n      <td>10039</td>\n      <td>2002-07-23 00:50:00</td>\n      <td>2002-07-23 00:42:00</td>\n      <td>2002-07-23 04:00:00</td>\n    </tr>\n    <tr>\n      <th>20</th>\n      <td>21</td>\n      <td>X4.0</td>\n      <td>9236</td>\n      <td>2000-11-26 17:00:00</td>\n      <td>2000-11-26 17:06:00</td>\n      <td>2000-11-26 17:15:00</td>\n    </tr>\n    <tr>\n      <th>21</th>\n      <td>22</td>\n      <td>X3.9</td>\n      <td>10488</td>\n      <td>2003-11-03 10:00:00</td>\n      <td>2003-11-03 10:06:00</td>\n      <td>2003-11-03 12:30:00</td>\n    </tr>\n    <tr>\n      <th>22</th>\n      <td>23</td>\n      <td>X3.8</td>\n      <td>10720</td>\n      <td>2005-01-17 10:00:00</td>\n      <td>2005-01-17 09:54:00</td>\n      <td>2005-01-17 10:35:00</td>\n    </tr>\n    <tr>\n      <th>23</th>\n      <td>24</td>\n      <td>X3.6</td>\n      <td>10365</td>\n      <td>2003-05-28 01:00:00</td>\n      <td>2003-05-28 00:50:00</td>\n      <td>2003-05-29 00:30:00</td>\n    </tr>\n    <tr>\n      <th>24</th>\n      <td>25</td>\n      <td>X3.4</td>\n      <td>10930</td>\n      <td>2006-12-13 02:45:00</td>\n      <td>2006-12-13 02:54:00</td>\n      <td>2006-12-13 10:40:00</td>\n    </tr>\n    <tr>\n      <th>25</th>\n      <td>26</td>\n      <td>X3.4</td>\n      <td>9756</td>\n      <td>2001-12-28 20:35:00</td>\n      <td>2001-12-28 20:30:00</td>\n      <td>2001-12-29 03:00:00</td>\n    </tr>\n    <tr>\n      <th>26</th>\n      <td>27</td>\n      <td>X3.3</td>\n      <td>10039</td>\n      <td>2002-07-20 21:30:00</td>\n      <td>2002-07-20 22:06:00</td>\n      <td>2002-07-20 22:20:00</td>\n    </tr>\n    <tr>\n      <th>27</th>\n      <td>28</td>\n      <td>X3.2</td>\n      <td>11748</td>\n      <td>2013-05-14 01:16:00</td>\n      <td>2013-05-14 01:25:00</td>\n      <td>2013-05-14 08:20:00</td>\n    </tr>\n    <tr>\n      <th>28</th>\n      <td>29</td>\n      <td>X3.1</td>\n      <td>10069</td>\n      <td>2002-08-24 01:45:00</td>\n      <td>2002-08-24 01:27:00</td>\n      <td>2002-08-24 03:25:00</td>\n    </tr>\n    <tr>\n      <th>29</th>\n      <td>30</td>\n      <td>X2.8</td>\n      <td>11748</td>\n      <td>2013-05-13 16:15:00</td>\n      <td>2013-05-13 16:07:00</td>\n      <td>2013-05-13 19:10:00</td>\n    </tr>\n    <tr>\n      <th>30</th>\n      <td>31</td>\n      <td>X2.7</td>\n      <td>8210</td>\n      <td>1998-05-06 08:25:00</td>\n      <td>1998-05-06 08:29:00</td>\n      <td>1998-05-06 08:35:00</td>\n    </tr>\n    <tr>\n      <th>31</th>\n      <td>32</td>\n      <td>X2.7</td>\n      <td>12339</td>\n      <td>2015-05-05 22:24:00</td>\n      <td>2015-05-05 22:24:00</td>\n      <td>2015-05-05 23:14:00</td>\n    </tr>\n    <tr>\n      <th>32</th>\n      <td>33</td>\n      <td>X2.7</td>\n      <td>10488</td>\n      <td>2003-11-03 01:15:00</td>\n      <td>2003-11-03 01:59:00</td>\n      <td>2003-11-03 01:25:00</td>\n    </tr>\n    <tr>\n      <th>33</th>\n      <td>34</td>\n      <td>X2.6</td>\n      <td>9632</td>\n      <td>2001-09-24 10:45:00</td>\n      <td>2001-09-24 10:30:00</td>\n      <td>2001-09-25 20:00:00</td>\n    </tr>\n    <tr>\n      <th>34</th>\n      <td>35</td>\n      <td>X2.6</td>\n      <td>8113</td>\n      <td>1997-11-27 13:30:00</td>\n      <td>1997-11-27 13:56:00</td>\n      <td>1997-11-27 14:00:00</td>\n    </tr>\n    <tr>\n      <th>35</th>\n      <td>36</td>\n      <td>X2.6</td>\n      <td>10720</td>\n      <td>2005-01-15 23:00:00</td>\n      <td>2005-01-15 23:06:00</td>\n      <td>2005-01-17 00:00:00</td>\n    </tr>\n    <tr>\n      <th>36</th>\n      <td>37</td>\n      <td>X2.5</td>\n      <td>10696</td>\n      <td>2004-11-10 02:25:00</td>\n      <td>2004-11-10 02:26:00</td>\n      <td>2004-11-10 03:40:00</td>\n    </tr>\n    <tr>\n      <th>37</th>\n      <td>38</td>\n      <td>X2.3</td>\n      <td>9415</td>\n      <td>2001-04-10 05:24:00</td>\n      <td>2001-04-10 05:30:00</td>\n      <td>2001-04-11 00:00:00</td>\n    </tr>\n    <tr>\n      <th>38</th>\n      <td>39</td>\n      <td>X2.3</td>\n      <td>9026</td>\n      <td>2000-06-06 15:20:00</td>\n      <td>2000-06-06 15:54:00</td>\n      <td>2000-06-08 09:00:00</td>\n    </tr>\n    <tr>\n      <th>39</th>\n      <td>40</td>\n      <td>X2.3</td>\n      <td>9236</td>\n      <td>2000-11-24 15:25:00</td>\n      <td>2000-11-24 15:30:00</td>\n      <td>2000-11-24 22:00:00</td>\n    </tr>\n    <tr>\n      <th>40</th>\n      <td>41</td>\n      <td>X2.2</td>\n      <td>11158</td>\n      <td>2011-02-15 02:10:00</td>\n      <td>2011-02-15 02:24:00</td>\n      <td>2011-02-15 07:00:00</td>\n    </tr>\n    <tr>\n      <th>41</th>\n      <td>42</td>\n      <td>X2.1</td>\n      <td>10808</td>\n      <td>2005-09-10 21:45:00</td>\n      <td>2005-09-10 21:52:00</td>\n      <td>2005-09-11 01:00:00</td>\n    </tr>\n    <tr>\n      <th>42</th>\n      <td>43</td>\n      <td>X2.1</td>\n      <td>11283</td>\n      <td>2011-09-06 22:30:00</td>\n      <td>2011-09-06 23:05:00</td>\n      <td>2011-09-07 15:40:00</td>\n    </tr>\n    <tr>\n      <th>43</th>\n      <td>44</td>\n      <td>X2.1</td>\n      <td>11882</td>\n      <td>2013-10-25 15:08:00</td>\n      <td>2013-10-25 15:12:00</td>\n      <td>2013-10-25 22:32:00</td>\n    </tr>\n    <tr>\n      <th>44</th>\n      <td>45</td>\n      <td>X2.1</td>\n      <td>8100</td>\n      <td>1997-11-04 06:00:00</td>\n      <td>1997-11-04 06:10:00</td>\n      <td>1997-11-05 04:30:00</td>\n    </tr>\n    <tr>\n      <th>45</th>\n      <td>46</td>\n      <td>X2.0</td>\n      <td>9236</td>\n      <td>2000-11-24 05:10:00</td>\n      <td>2000-11-24 05:30:00</td>\n      <td>2000-11-24 15:00:00</td>\n    </tr>\n    <tr>\n      <th>46</th>\n      <td>47</td>\n      <td>X2.0</td>\n      <td>10720</td>\n      <td>2005-01-17 09:25:00</td>\n      <td>2005-01-17 09:30:00</td>\n      <td>2005-01-17 16:00:00</td>\n    </tr>\n    <tr>\n      <th>47</th>\n      <td>48</td>\n      <td>X2.0</td>\n      <td>9415</td>\n      <td>2001-04-12 10:20:00</td>\n      <td>2001-04-12 10:31:00</td>\n      <td>2001-04-12 10:40:00</td>\n    </tr>\n    <tr>\n      <th>48</th>\n      <td>49</td>\n      <td>X2.0</td>\n      <td>10696</td>\n      <td>2004-11-07 16:25:00</td>\n      <td>2004-11-07 16:54:00</td>\n      <td>2004-11-08 20:00:00</td>\n    </tr>\n    <tr>\n      <th>49</th>\n      <td>50</td>\n      <td>X1.9</td>\n      <td>9236</td>\n      <td>2000-11-25 19:00:00</td>\n      <td>2000-11-25 19:31:00</td>\n      <td>2000-11-25 19:35:00</td>\n    </tr>\n  </tbody>\n</table>\n</div>"
     },
     "metadata": {}
    },
    {
     "output_type": "display_data",
     "data": {
      "text/plain": "    rank x_class  region      start_datetime        max_datetime  \\\n0      1    X28+     486 2003-11-04 19:29:00 2003-11-04 19:53:00   \n1      2    X20+    9393 2001-04-02 21:32:00 2001-04-02 21:51:00   \n2      3  X17.2+     486 2003-10-28 09:51:00 2003-10-28 11:10:00   \n3      4    X17+     808 2005-09-07 17:17:00 2005-09-07 17:40:00   \n4      5   X14.4    9415 2001-04-15 13:19:00 2001-04-15 13:50:00   \n5      6     X10     486 2003-10-29 20:37:00 2003-10-29 20:49:00   \n6      7    X9.4    8100 1997-11-06 11:49:00 1997-11-06 11:55:00   \n7      8    X9.3    2673 2017-09-06 11:53:00 2017-09-06 12:02:00   \n8      9      X9     930 2006-12-05 10:18:00 2006-12-05 10:35:00   \n9     10    X8.3     486 2003-11-02 17:03:00 2003-11-02 17:25:00   \n10    11    X8.2    2673 2017-09-10 15:35:00 2017-09-10 16:06:00   \n11    12    X7.1     720 2005-01-20 06:36:00 2005-01-20 07:01:00   \n12    13    X6.9    1263 2011-08-09 07:48:00 2011-08-09 08:05:00   \n13    14    X6.5     930 2006-12-06 18:29:00 2006-12-06 18:47:00   \n14    15    X6.2     808 2005-09-09 19:13:00 2005-09-09 20:04:00   \n15    16    X6.2    9733 2001-12-13 14:20:00 2001-12-13 14:30:00   \n16    17    X5.7    9077 2000-07-14 10:03:00 2000-07-14 10:24:00   \n17    18    X5.6    9415 2001-04-06 19:10:00 2001-04-06 19:21:00   \n18    19    X5.4    1429 2012-03-07 00:02:00 2012-03-07 00:24:00   \n19    20    X5.4     808 2005-09-08 20:52:00 2005-09-08 21:06:00   \n20    21    X5.4     486 2003-10-23 08:19:00 2003-10-23 08:35:00   \n21    22    X5.3    9591 2001-08-25 16:23:00 2001-08-25 16:45:00   \n22    23    X4.9    1990 2014-02-25 00:39:00 2014-02-25 00:49:00   \n23    24    X4.9    8307 1998-08-18 22:10:00 1998-08-18 22:19:00   \n24    25    X4.8      39 2002-07-23 00:18:00 2002-07-23 00:35:00   \n25    26      X4    9236 2000-11-26 16:34:00 2000-11-26 16:48:00   \n26    27    X3.9     488 2003-11-03 09:43:00 2003-11-03 09:55:00   \n27    28    X3.9    8307 1998-08-19 21:35:00 1998-08-19 21:45:00   \n28    29    X3.8     720 2005-01-17 06:59:00 2005-01-17 09:52:00   \n29    30    X3.7    8384 1998-11-22 06:30:00 1998-11-22 06:42:00   \n30    31    X3.6     808 2005-09-09 09:42:00 2005-09-09 09:59:00   \n31    32    X3.6     649 2004-07-16 13:49:00 2004-07-16 13:55:00   \n32    33    X3.6     365 2003-05-28 00:17:00 2003-05-28 00:27:00   \n33    34    X3.4     930 2006-12-13 02:14:00 2006-12-13 02:40:00   \n34    35    X3.4    9767 2001-12-28 20:02:00 2001-12-28 20:45:00   \n35    36    X3.3    1890 2013-11-05 22:07:00 2013-11-05 22:12:00   \n36    37    X3.3      39 2002-07-20 21:04:00 2002-07-20 21:30:00   \n37    38    X3.3    8395 1998-11-28 04:54:00 1998-11-28 05:52:00   \n38    39    X3.2    1748 2013-05-14 00:00:00 2013-05-14 01:11:00   \n39    40    X3.1    2192 2014-10-24 21:07:00 2014-10-24 21:41:00   \n40    41    X3.1      69 2002-08-24 00:49:00 2002-08-24 01:12:00   \n41    42      X3      30 2002-07-15 19:59:00 2002-07-15 20:08:00   \n42    43    X2.8    1748 2013-05-13 15:48:00 2013-05-13 16:05:00   \n43    44    X2.8    9733 2001-12-11 07:58:00 2001-12-11 08:08:00   \n44    45    X2.8    8307 1998-08-18 08:14:00 1998-08-18 08:24:00   \n45    46    X2.7    2339 2015-05-05 22:05:00 2015-05-05 22:11:00   \n46    47    X2.7     488 2003-11-03 01:09:00 2003-11-03 01:30:00   \n47    48    X2.7    8210 1998-05-06 07:58:00 1998-05-06 08:09:00   \n48    49    X2.6     720 2005-01-15 22:25:00 2005-01-15 23:02:00   \n49    50    X2.6    9632 2001-09-24 09:32:00 2001-09-24 10:38:00   \n\n          end_datetime  \n0  2003-11-04 20:06:00  \n1  2001-04-02 22:03:00  \n2  2003-10-28 11:24:00  \n3  2005-09-07 18:03:00  \n4  2001-04-15 13:55:00  \n5  2003-10-29 21:01:00  \n6  1997-11-06 12:01:00  \n7  2017-09-06 12:10:00  \n8  2006-12-05 10:45:00  \n9  2003-11-02 17:39:00  \n10 2017-09-10 16:31:00  \n11 2005-01-20 07:26:00  \n12 2011-08-09 08:08:00  \n13 2006-12-06 19:00:00  \n14 2005-09-09 20:36:00  \n15 2001-12-13 14:35:00  \n16 2000-07-14 10:43:00  \n17 2001-04-06 19:31:00  \n18 2012-03-07 00:40:00  \n19 2005-09-08 21:17:00  \n20 2003-10-23 08:49:00  \n21 2001-08-25 17:04:00  \n22 2014-02-25 01:03:00  \n23 1998-08-18 22:28:00  \n24 2002-07-23 00:47:00  \n25 2000-11-26 16:56:00  \n26 2003-11-03 10:19:00  \n27 1998-08-19 21:50:00  \n28 2005-01-17 10:07:00  \n29 1998-11-22 06:49:00  \n30 2005-09-09 10:08:00  \n31 2004-07-16 14:01:00  \n32 2003-05-28 00:39:00  \n33 2006-12-13 02:57:00  \n34 2001-12-28 21:32:00  \n35 2013-11-05 22:15:00  \n36 2002-07-20 21:54:00  \n37 1998-11-28 06:13:00  \n38 2013-05-14 01:20:00  \n39 2014-10-24 22:13:00  \n40 2002-08-24 01:31:00  \n41 2002-07-15 20:14:00  \n42 2013-05-13 16:16:00  \n43 2001-12-11 08:14:00  \n44 1998-08-18 08:32:00  \n45 2015-05-05 22:15:00  \n46 2003-11-03 01:45:00  \n47 1998-05-06 08:20:00  \n48 2005-01-15 23:31:00  \n49 2001-09-24 11:09:00  ",
      "text/html": "<div>\n<style scoped>\n    .dataframe tbody tr th:only-of-type {\n        vertical-align: middle;\n    }\n\n    .dataframe tbody tr th {\n        vertical-align: top;\n    }\n\n    .dataframe thead th {\n        text-align: right;\n    }\n</style>\n<table border=\"1\" class=\"dataframe\">\n  <thead>\n    <tr style=\"text-align: right;\">\n      <th></th>\n      <th>rank</th>\n      <th>x_class</th>\n      <th>region</th>\n      <th>start_datetime</th>\n      <th>max_datetime</th>\n      <th>end_datetime</th>\n    </tr>\n  </thead>\n  <tbody>\n    <tr>\n      <th>0</th>\n      <td>1</td>\n      <td>X28+</td>\n      <td>486</td>\n      <td>2003-11-04 19:29:00</td>\n      <td>2003-11-04 19:53:00</td>\n      <td>2003-11-04 20:06:00</td>\n    </tr>\n    <tr>\n      <th>1</th>\n      <td>2</td>\n      <td>X20+</td>\n      <td>9393</td>\n      <td>2001-04-02 21:32:00</td>\n      <td>2001-04-02 21:51:00</td>\n      <td>2001-04-02 22:03:00</td>\n    </tr>\n    <tr>\n      <th>2</th>\n      <td>3</td>\n      <td>X17.2+</td>\n      <td>486</td>\n      <td>2003-10-28 09:51:00</td>\n      <td>2003-10-28 11:10:00</td>\n      <td>2003-10-28 11:24:00</td>\n    </tr>\n    <tr>\n      <th>3</th>\n      <td>4</td>\n      <td>X17+</td>\n      <td>808</td>\n      <td>2005-09-07 17:17:00</td>\n      <td>2005-09-07 17:40:00</td>\n      <td>2005-09-07 18:03:00</td>\n    </tr>\n    <tr>\n      <th>4</th>\n      <td>5</td>\n      <td>X14.4</td>\n      <td>9415</td>\n      <td>2001-04-15 13:19:00</td>\n      <td>2001-04-15 13:50:00</td>\n      <td>2001-04-15 13:55:00</td>\n    </tr>\n    <tr>\n      <th>5</th>\n      <td>6</td>\n      <td>X10</td>\n      <td>486</td>\n      <td>2003-10-29 20:37:00</td>\n      <td>2003-10-29 20:49:00</td>\n      <td>2003-10-29 21:01:00</td>\n    </tr>\n    <tr>\n      <th>6</th>\n      <td>7</td>\n      <td>X9.4</td>\n      <td>8100</td>\n      <td>1997-11-06 11:49:00</td>\n      <td>1997-11-06 11:55:00</td>\n      <td>1997-11-06 12:01:00</td>\n    </tr>\n    <tr>\n      <th>7</th>\n      <td>8</td>\n      <td>X9.3</td>\n      <td>2673</td>\n      <td>2017-09-06 11:53:00</td>\n      <td>2017-09-06 12:02:00</td>\n      <td>2017-09-06 12:10:00</td>\n    </tr>\n    <tr>\n      <th>8</th>\n      <td>9</td>\n      <td>X9</td>\n      <td>930</td>\n      <td>2006-12-05 10:18:00</td>\n      <td>2006-12-05 10:35:00</td>\n      <td>2006-12-05 10:45:00</td>\n    </tr>\n    <tr>\n      <th>9</th>\n      <td>10</td>\n      <td>X8.3</td>\n      <td>486</td>\n      <td>2003-11-02 17:03:00</td>\n      <td>2003-11-02 17:25:00</td>\n      <td>2003-11-02 17:39:00</td>\n    </tr>\n    <tr>\n      <th>10</th>\n      <td>11</td>\n      <td>X8.2</td>\n      <td>2673</td>\n      <td>2017-09-10 15:35:00</td>\n      <td>2017-09-10 16:06:00</td>\n      <td>2017-09-10 16:31:00</td>\n    </tr>\n    <tr>\n      <th>11</th>\n      <td>12</td>\n      <td>X7.1</td>\n      <td>720</td>\n      <td>2005-01-20 06:36:00</td>\n      <td>2005-01-20 07:01:00</td>\n      <td>2005-01-20 07:26:00</td>\n    </tr>\n    <tr>\n      <th>12</th>\n      <td>13</td>\n      <td>X6.9</td>\n      <td>1263</td>\n      <td>2011-08-09 07:48:00</td>\n      <td>2011-08-09 08:05:00</td>\n      <td>2011-08-09 08:08:00</td>\n    </tr>\n    <tr>\n      <th>13</th>\n      <td>14</td>\n      <td>X6.5</td>\n      <td>930</td>\n      <td>2006-12-06 18:29:00</td>\n      <td>2006-12-06 18:47:00</td>\n      <td>2006-12-06 19:00:00</td>\n    </tr>\n    <tr>\n      <th>14</th>\n      <td>15</td>\n      <td>X6.2</td>\n      <td>808</td>\n      <td>2005-09-09 19:13:00</td>\n      <td>2005-09-09 20:04:00</td>\n      <td>2005-09-09 20:36:00</td>\n    </tr>\n    <tr>\n      <th>15</th>\n      <td>16</td>\n      <td>X6.2</td>\n      <td>9733</td>\n      <td>2001-12-13 14:20:00</td>\n      <td>2001-12-13 14:30:00</td>\n      <td>2001-12-13 14:35:00</td>\n    </tr>\n    <tr>\n      <th>16</th>\n      <td>17</td>\n      <td>X5.7</td>\n      <td>9077</td>\n      <td>2000-07-14 10:03:00</td>\n      <td>2000-07-14 10:24:00</td>\n      <td>2000-07-14 10:43:00</td>\n    </tr>\n    <tr>\n      <th>17</th>\n      <td>18</td>\n      <td>X5.6</td>\n      <td>9415</td>\n      <td>2001-04-06 19:10:00</td>\n      <td>2001-04-06 19:21:00</td>\n      <td>2001-04-06 19:31:00</td>\n    </tr>\n    <tr>\n      <th>18</th>\n      <td>19</td>\n      <td>X5.4</td>\n      <td>1429</td>\n      <td>2012-03-07 00:02:00</td>\n      <td>2012-03-07 00:24:00</td>\n      <td>2012-03-07 00:40:00</td>\n    </tr>\n    <tr>\n      <th>19</th>\n      <td>20</td>\n      <td>X5.4</td>\n      <td>808</td>\n      <td>2005-09-08 20:52:00</td>\n      <td>2005-09-08 21:06:00</td>\n      <td>2005-09-08 21:17:00</td>\n    </tr>\n    <tr>\n      <th>20</th>\n      <td>21</td>\n      <td>X5.4</td>\n      <td>486</td>\n      <td>2003-10-23 08:19:00</td>\n      <td>2003-10-23 08:35:00</td>\n      <td>2003-10-23 08:49:00</td>\n    </tr>\n    <tr>\n      <th>21</th>\n      <td>22</td>\n      <td>X5.3</td>\n      <td>9591</td>\n      <td>2001-08-25 16:23:00</td>\n      <td>2001-08-25 16:45:00</td>\n      <td>2001-08-25 17:04:00</td>\n    </tr>\n    <tr>\n      <th>22</th>\n      <td>23</td>\n      <td>X4.9</td>\n      <td>1990</td>\n      <td>2014-02-25 00:39:00</td>\n      <td>2014-02-25 00:49:00</td>\n      <td>2014-02-25 01:03:00</td>\n    </tr>\n    <tr>\n      <th>23</th>\n      <td>24</td>\n      <td>X4.9</td>\n      <td>8307</td>\n      <td>1998-08-18 22:10:00</td>\n      <td>1998-08-18 22:19:00</td>\n      <td>1998-08-18 22:28:00</td>\n    </tr>\n    <tr>\n      <th>24</th>\n      <td>25</td>\n      <td>X4.8</td>\n      <td>39</td>\n      <td>2002-07-23 00:18:00</td>\n      <td>2002-07-23 00:35:00</td>\n      <td>2002-07-23 00:47:00</td>\n    </tr>\n    <tr>\n      <th>25</th>\n      <td>26</td>\n      <td>X4</td>\n      <td>9236</td>\n      <td>2000-11-26 16:34:00</td>\n      <td>2000-11-26 16:48:00</td>\n      <td>2000-11-26 16:56:00</td>\n    </tr>\n    <tr>\n      <th>26</th>\n      <td>27</td>\n      <td>X3.9</td>\n      <td>488</td>\n      <td>2003-11-03 09:43:00</td>\n      <td>2003-11-03 09:55:00</td>\n      <td>2003-11-03 10:19:00</td>\n    </tr>\n    <tr>\n      <th>27</th>\n      <td>28</td>\n      <td>X3.9</td>\n      <td>8307</td>\n      <td>1998-08-19 21:35:00</td>\n      <td>1998-08-19 21:45:00</td>\n      <td>1998-08-19 21:50:00</td>\n    </tr>\n    <tr>\n      <th>28</th>\n      <td>29</td>\n      <td>X3.8</td>\n      <td>720</td>\n      <td>2005-01-17 06:59:00</td>\n      <td>2005-01-17 09:52:00</td>\n      <td>2005-01-17 10:07:00</td>\n    </tr>\n    <tr>\n      <th>29</th>\n      <td>30</td>\n      <td>X3.7</td>\n      <td>8384</td>\n      <td>1998-11-22 06:30:00</td>\n      <td>1998-11-22 06:42:00</td>\n      <td>1998-11-22 06:49:00</td>\n    </tr>\n    <tr>\n      <th>30</th>\n      <td>31</td>\n      <td>X3.6</td>\n      <td>808</td>\n      <td>2005-09-09 09:42:00</td>\n      <td>2005-09-09 09:59:00</td>\n      <td>2005-09-09 10:08:00</td>\n    </tr>\n    <tr>\n      <th>31</th>\n      <td>32</td>\n      <td>X3.6</td>\n      <td>649</td>\n      <td>2004-07-16 13:49:00</td>\n      <td>2004-07-16 13:55:00</td>\n      <td>2004-07-16 14:01:00</td>\n    </tr>\n    <tr>\n      <th>32</th>\n      <td>33</td>\n      <td>X3.6</td>\n      <td>365</td>\n      <td>2003-05-28 00:17:00</td>\n      <td>2003-05-28 00:27:00</td>\n      <td>2003-05-28 00:39:00</td>\n    </tr>\n    <tr>\n      <th>33</th>\n      <td>34</td>\n      <td>X3.4</td>\n      <td>930</td>\n      <td>2006-12-13 02:14:00</td>\n      <td>2006-12-13 02:40:00</td>\n      <td>2006-12-13 02:57:00</td>\n    </tr>\n    <tr>\n      <th>34</th>\n      <td>35</td>\n      <td>X3.4</td>\n      <td>9767</td>\n      <td>2001-12-28 20:02:00</td>\n      <td>2001-12-28 20:45:00</td>\n      <td>2001-12-28 21:32:00</td>\n    </tr>\n    <tr>\n      <th>35</th>\n      <td>36</td>\n      <td>X3.3</td>\n      <td>1890</td>\n      <td>2013-11-05 22:07:00</td>\n      <td>2013-11-05 22:12:00</td>\n      <td>2013-11-05 22:15:00</td>\n    </tr>\n    <tr>\n      <th>36</th>\n      <td>37</td>\n      <td>X3.3</td>\n      <td>39</td>\n      <td>2002-07-20 21:04:00</td>\n      <td>2002-07-20 21:30:00</td>\n      <td>2002-07-20 21:54:00</td>\n    </tr>\n    <tr>\n      <th>37</th>\n      <td>38</td>\n      <td>X3.3</td>\n      <td>8395</td>\n      <td>1998-11-28 04:54:00</td>\n      <td>1998-11-28 05:52:00</td>\n      <td>1998-11-28 06:13:00</td>\n    </tr>\n    <tr>\n      <th>38</th>\n      <td>39</td>\n      <td>X3.2</td>\n      <td>1748</td>\n      <td>2013-05-14 00:00:00</td>\n      <td>2013-05-14 01:11:00</td>\n      <td>2013-05-14 01:20:00</td>\n    </tr>\n    <tr>\n      <th>39</th>\n      <td>40</td>\n      <td>X3.1</td>\n      <td>2192</td>\n      <td>2014-10-24 21:07:00</td>\n      <td>2014-10-24 21:41:00</td>\n      <td>2014-10-24 22:13:00</td>\n    </tr>\n    <tr>\n      <th>40</th>\n      <td>41</td>\n      <td>X3.1</td>\n      <td>69</td>\n      <td>2002-08-24 00:49:00</td>\n      <td>2002-08-24 01:12:00</td>\n      <td>2002-08-24 01:31:00</td>\n    </tr>\n    <tr>\n      <th>41</th>\n      <td>42</td>\n      <td>X3</td>\n      <td>30</td>\n      <td>2002-07-15 19:59:00</td>\n      <td>2002-07-15 20:08:00</td>\n      <td>2002-07-15 20:14:00</td>\n    </tr>\n    <tr>\n      <th>42</th>\n      <td>43</td>\n      <td>X2.8</td>\n      <td>1748</td>\n      <td>2013-05-13 15:48:00</td>\n      <td>2013-05-13 16:05:00</td>\n      <td>2013-05-13 16:16:00</td>\n    </tr>\n    <tr>\n      <th>43</th>\n      <td>44</td>\n      <td>X2.8</td>\n      <td>9733</td>\n      <td>2001-12-11 07:58:00</td>\n      <td>2001-12-11 08:08:00</td>\n      <td>2001-12-11 08:14:00</td>\n    </tr>\n    <tr>\n      <th>44</th>\n      <td>45</td>\n      <td>X2.8</td>\n      <td>8307</td>\n      <td>1998-08-18 08:14:00</td>\n      <td>1998-08-18 08:24:00</td>\n      <td>1998-08-18 08:32:00</td>\n    </tr>\n    <tr>\n      <th>45</th>\n      <td>46</td>\n      <td>X2.7</td>\n      <td>2339</td>\n      <td>2015-05-05 22:05:00</td>\n      <td>2015-05-05 22:11:00</td>\n      <td>2015-05-05 22:15:00</td>\n    </tr>\n    <tr>\n      <th>46</th>\n      <td>47</td>\n      <td>X2.7</td>\n      <td>488</td>\n      <td>2003-11-03 01:09:00</td>\n      <td>2003-11-03 01:30:00</td>\n      <td>2003-11-03 01:45:00</td>\n    </tr>\n    <tr>\n      <th>47</th>\n      <td>48</td>\n      <td>X2.7</td>\n      <td>8210</td>\n      <td>1998-05-06 07:58:00</td>\n      <td>1998-05-06 08:09:00</td>\n      <td>1998-05-06 08:20:00</td>\n    </tr>\n    <tr>\n      <th>48</th>\n      <td>49</td>\n      <td>X2.6</td>\n      <td>720</td>\n      <td>2005-01-15 22:25:00</td>\n      <td>2005-01-15 23:02:00</td>\n      <td>2005-01-15 23:31:00</td>\n    </tr>\n    <tr>\n      <th>49</th>\n      <td>50</td>\n      <td>X2.6</td>\n      <td>9632</td>\n      <td>2001-09-24 09:32:00</td>\n      <td>2001-09-24 10:38:00</td>\n      <td>2001-09-24 11:09:00</td>\n    </tr>\n  </tbody>\n</table>\n</div>"
     },
     "metadata": {}
    }
   ],
   "source": [
    "display(nasa_top50)\n",
    "display(swl_df_datetime2)"
   ]
  },
  {
   "source": [
    "### Question 2"
   ],
   "cell_type": "markdown",
   "metadata": {}
  },
  {
   "source": [
    "The second question asks us to find the 'best match' for each row in the Space Weather Live dataset.\n",
    "\n",
    "When trying to match the top 50 solar flares from Space Weather Live, we will assume their data to be true. Thus we will find the corresponding observations in the NASA dataset based on the date and time of the coronal mass ejection (cme). If these values don't exist for a NASA observation, we will use the start date and time to approximate 'closeness' to the Space Weather Live observations. If there are multiple NASA flares that match a Space Weather Live flare, we will use the NASA flare with the highest class."
   ],
   "cell_type": "markdown",
   "metadata": {}
  },
  {
   "cell_type": "code",
   "execution_count": 17,
   "metadata": {},
   "outputs": [
    {
     "output_type": "execute_result",
     "data": {
      "text/plain": [
       "     swl_rank      start_datetime        end_datetime start_frequency  \\\n",
       "0         NaN 1997-04-01 14:00:00 1997-04-01 14:15:00            8000   \n",
       "1         NaN 1997-04-07 14:30:00 1997-04-07 17:30:00           11000   \n",
       "2         NaN 1997-05-12 05:15:00 1997-05-14 16:00:00           12000   \n",
       "3         NaN 1997-05-21 20:20:00 1997-05-21 22:00:00            5000   \n",
       "4         NaN 1997-09-23 21:53:00 1997-09-23 22:16:00            6000   \n",
       "..        ...                 ...                 ...             ...   \n",
       "513       NaN 2017-09-04 20:27:00 2017-09-05 04:54:00           14000   \n",
       "514       8.0 2017-09-06 12:05:00 2017-09-07 08:00:00           16000   \n",
       "515      11.0 2017-09-10 16:02:00 2017-09-11 06:50:00           16000   \n",
       "516       NaN 2017-09-12 07:38:00 2017-09-12 07:43:00           16000   \n",
       "517       NaN 2017-09-17 11:45:00 2017-09-17 12:35:00           16000   \n",
       "\n",
       "    end_frequency flare_location flare_region flare_class        cme_datetime  \\\n",
       "0            4000         S25E16         8026        M1.3 1997-04-01 15:18:00   \n",
       "1            1000         S28E19         8027        C6.8 1997-04-07 14:27:00   \n",
       "2              80         N21W08         8038        C1.3 1997-05-12 05:30:00   \n",
       "3             500         N05W12         8040        M1.3 1997-05-21 21:00:00   \n",
       "4            2000         S29E25         8088        C1.4 1997-09-23 22:02:00   \n",
       "..            ...            ...          ...         ...                 ...   \n",
       "513           210         S10W12        12673        M5.5 2017-09-04 20:12:00   \n",
       "514            70         S08W33        12673        X9.3 2017-09-06 12:24:00   \n",
       "515           150         S09W92          NaN        X8.3 2017-09-10 16:00:00   \n",
       "516         13000         N08E48        12680        C3.0 2017-09-12 08:03:00   \n",
       "517           900        S08E170          NaN         NaN 2017-09-17 12:00:00   \n",
       "\n",
       "    cme_angle cme_width cme_speed  is_halo  width_lower_bound  \n",
       "0          74        79       312    False              False  \n",
       "1         NaN       360       878     True              False  \n",
       "2         NaN       360       464     True              False  \n",
       "3         263       165       296    False              False  \n",
       "4         133       155       712    False              False  \n",
       "..        ...       ...       ...      ...                ...  \n",
       "513       NaN       360      1418     True              False  \n",
       "514       NaN       360      1571     True              False  \n",
       "515       NaN       360      3163     True              False  \n",
       "516       124        96       252    False              False  \n",
       "517       NaN       360      1385     True              False  \n",
       "\n",
       "[518 rows x 14 columns]"
      ],
      "text/html": "<div>\n<style scoped>\n    .dataframe tbody tr th:only-of-type {\n        vertical-align: middle;\n    }\n\n    .dataframe tbody tr th {\n        vertical-align: top;\n    }\n\n    .dataframe thead th {\n        text-align: right;\n    }\n</style>\n<table border=\"1\" class=\"dataframe\">\n  <thead>\n    <tr style=\"text-align: right;\">\n      <th></th>\n      <th>swl_rank</th>\n      <th>start_datetime</th>\n      <th>end_datetime</th>\n      <th>start_frequency</th>\n      <th>end_frequency</th>\n      <th>flare_location</th>\n      <th>flare_region</th>\n      <th>flare_class</th>\n      <th>cme_datetime</th>\n      <th>cme_angle</th>\n      <th>cme_width</th>\n      <th>cme_speed</th>\n      <th>is_halo</th>\n      <th>width_lower_bound</th>\n    </tr>\n  </thead>\n  <tbody>\n    <tr>\n      <th>0</th>\n      <td>NaN</td>\n      <td>1997-04-01 14:00:00</td>\n      <td>1997-04-01 14:15:00</td>\n      <td>8000</td>\n      <td>4000</td>\n      <td>S25E16</td>\n      <td>8026</td>\n      <td>M1.3</td>\n      <td>1997-04-01 15:18:00</td>\n      <td>74</td>\n      <td>79</td>\n      <td>312</td>\n      <td>False</td>\n      <td>False</td>\n    </tr>\n    <tr>\n      <th>1</th>\n      <td>NaN</td>\n      <td>1997-04-07 14:30:00</td>\n      <td>1997-04-07 17:30:00</td>\n      <td>11000</td>\n      <td>1000</td>\n      <td>S28E19</td>\n      <td>8027</td>\n      <td>C6.8</td>\n      <td>1997-04-07 14:27:00</td>\n      <td>NaN</td>\n      <td>360</td>\n      <td>878</td>\n      <td>True</td>\n      <td>False</td>\n    </tr>\n    <tr>\n      <th>2</th>\n      <td>NaN</td>\n      <td>1997-05-12 05:15:00</td>\n      <td>1997-05-14 16:00:00</td>\n      <td>12000</td>\n      <td>80</td>\n      <td>N21W08</td>\n      <td>8038</td>\n      <td>C1.3</td>\n      <td>1997-05-12 05:30:00</td>\n      <td>NaN</td>\n      <td>360</td>\n      <td>464</td>\n      <td>True</td>\n      <td>False</td>\n    </tr>\n    <tr>\n      <th>3</th>\n      <td>NaN</td>\n      <td>1997-05-21 20:20:00</td>\n      <td>1997-05-21 22:00:00</td>\n      <td>5000</td>\n      <td>500</td>\n      <td>N05W12</td>\n      <td>8040</td>\n      <td>M1.3</td>\n      <td>1997-05-21 21:00:00</td>\n      <td>263</td>\n      <td>165</td>\n      <td>296</td>\n      <td>False</td>\n      <td>False</td>\n    </tr>\n    <tr>\n      <th>4</th>\n      <td>NaN</td>\n      <td>1997-09-23 21:53:00</td>\n      <td>1997-09-23 22:16:00</td>\n      <td>6000</td>\n      <td>2000</td>\n      <td>S29E25</td>\n      <td>8088</td>\n      <td>C1.4</td>\n      <td>1997-09-23 22:02:00</td>\n      <td>133</td>\n      <td>155</td>\n      <td>712</td>\n      <td>False</td>\n      <td>False</td>\n    </tr>\n    <tr>\n      <th>...</th>\n      <td>...</td>\n      <td>...</td>\n      <td>...</td>\n      <td>...</td>\n      <td>...</td>\n      <td>...</td>\n      <td>...</td>\n      <td>...</td>\n      <td>...</td>\n      <td>...</td>\n      <td>...</td>\n      <td>...</td>\n      <td>...</td>\n      <td>...</td>\n    </tr>\n    <tr>\n      <th>513</th>\n      <td>NaN</td>\n      <td>2017-09-04 20:27:00</td>\n      <td>2017-09-05 04:54:00</td>\n      <td>14000</td>\n      <td>210</td>\n      <td>S10W12</td>\n      <td>12673</td>\n      <td>M5.5</td>\n      <td>2017-09-04 20:12:00</td>\n      <td>NaN</td>\n      <td>360</td>\n      <td>1418</td>\n      <td>True</td>\n      <td>False</td>\n    </tr>\n    <tr>\n      <th>514</th>\n      <td>8.0</td>\n      <td>2017-09-06 12:05:00</td>\n      <td>2017-09-07 08:00:00</td>\n      <td>16000</td>\n      <td>70</td>\n      <td>S08W33</td>\n      <td>12673</td>\n      <td>X9.3</td>\n      <td>2017-09-06 12:24:00</td>\n      <td>NaN</td>\n      <td>360</td>\n      <td>1571</td>\n      <td>True</td>\n      <td>False</td>\n    </tr>\n    <tr>\n      <th>515</th>\n      <td>11.0</td>\n      <td>2017-09-10 16:02:00</td>\n      <td>2017-09-11 06:50:00</td>\n      <td>16000</td>\n      <td>150</td>\n      <td>S09W92</td>\n      <td>NaN</td>\n      <td>X8.3</td>\n      <td>2017-09-10 16:00:00</td>\n      <td>NaN</td>\n      <td>360</td>\n      <td>3163</td>\n      <td>True</td>\n      <td>False</td>\n    </tr>\n    <tr>\n      <th>516</th>\n      <td>NaN</td>\n      <td>2017-09-12 07:38:00</td>\n      <td>2017-09-12 07:43:00</td>\n      <td>16000</td>\n      <td>13000</td>\n      <td>N08E48</td>\n      <td>12680</td>\n      <td>C3.0</td>\n      <td>2017-09-12 08:03:00</td>\n      <td>124</td>\n      <td>96</td>\n      <td>252</td>\n      <td>False</td>\n      <td>False</td>\n    </tr>\n    <tr>\n      <th>517</th>\n      <td>NaN</td>\n      <td>2017-09-17 11:45:00</td>\n      <td>2017-09-17 12:35:00</td>\n      <td>16000</td>\n      <td>900</td>\n      <td>S08E170</td>\n      <td>NaN</td>\n      <td>NaN</td>\n      <td>2017-09-17 12:00:00</td>\n      <td>NaN</td>\n      <td>360</td>\n      <td>1385</td>\n      <td>True</td>\n      <td>False</td>\n    </tr>\n  </tbody>\n</table>\n<p>518 rows × 14 columns</p>\n</div>"
     },
     "metadata": {},
     "execution_count": 17
    }
   ],
   "source": [
    "\n",
    "# insert new column to track matches\n",
    "nasa_df.insert(0, 'swl_rank', np.nan)\n",
    "index = 0\n",
    "for swl_dt in swl_df_datetime2['max_datetime']:\n",
    "    match_list = []\n",
    "    class_list = []\n",
    "    for nasa_row in nasa_df.itertuples():\n",
    "        # check if cme_datetime is NaT\n",
    "        if nasa_row[9] != pd.NaT:\n",
    "            nasa_dt = pd.to_datetime(nasa_row[9], infer_datetime_format=True)\n",
    "        # otherwise use start_datetime\n",
    "        else:\n",
    "            nasa_dt = pd.to_datetime(nasa_row[1], infer_datetime_format=True)\n",
    "        # we match only if the flares happened on the same day and the flare class is not NaN\n",
    "        if (abs((swl_dt - nasa_dt).days) <= 1) and not isinstance(nasa_row[8], float):\n",
    "            match_list.append(nasa_row)\n",
    "            class_list.append(float(nasa_row[8][1:]))\n",
    "    # checks if any matches were found\n",
    "    if match_list:\n",
    "        # checks if the matches has flare classes\n",
    "        if not class_list:\n",
    "            match = match_list[0]\n",
    "        # uses the highest class flare from the matches\n",
    "        else:\n",
    "            match = match_list[class_list.index(max(class_list))]\n",
    "        \n",
    "        nasa_index = match[0]\n",
    "        # if a match hasn't been found already, assign the matched rank to nasa data\n",
    "        if np.isnan(nasa_df.loc[nasa_index, 'swl_rank']):\n",
    "            nasa_df.loc[nasa_index, 'swl_rank'] = index + 1\n",
    "        \n",
    "    index += 1\n",
    "\n",
    "nasa_df\n",
    "\n"
   ]
  },
  {
   "source": [
    "Not every Top 50 solar flare from Space Weather Live has a match in the NASA dataset when comparing the datetimes of the observations. This is most likely due to the Space Weather Live and the NASA page having different sources of data. It appears the Space Weather Live dataset is more complete, and there are unaccounted for solar flares in the NASA dataset. Because we assumed Space Weather Live's data to be true, matching those specific flares by date is the most accurate comparison. It is a matter of difference in instruments used to collect data."
   ],
   "cell_type": "markdown",
   "metadata": {}
  },
  {
   "source": [
    "### Question 3"
   ],
   "cell_type": "markdown",
   "metadata": {}
  },
  {
   "source": [
    "Below I will be plotting the number of flares per month, as well as the number of Top 50 flares or per month. This will allow us to analyze if the number of flares and/or 'strong' flares clusters around a certain months over time."
   ],
   "cell_type": "markdown",
   "metadata": {}
  },
  {
   "cell_type": "code",
   "execution_count": 18,
   "metadata": {},
   "outputs": [],
   "source": [
    "import matplotlib.pyplot as plt\n",
    "import seaborn as sns\n",
    "\n",
    "# Grouping by months\n",
    "gb = nasa_df.set_index('start_datetime')\n",
    "gb = gb.groupby([gb.index.month]).count()\n",
    "# I only take these two columns because the swl_rank contains Top 50 observations\n",
    "# while the end_datetime has a value for every flare\n",
    "gb = gb.loc[:, ['swl_rank','end_datetime']]\n",
    "gb.columns = ['strong', 'normal']\n",
    "# removing strong from normal count\n",
    "gb.normal = gb.normal - gb.strong\n",
    "gb.index.name = 'Month'\n",
    "gb = gb.reset_index()\n",
    "gb.loc[:, 'Month'] = ['Jan', 'Feb', 'Mar', 'Apr', 'May', 'Jun', 'July', 'Aug', 'Sep', 'Oct', 'Nov', 'Dec']\n",
    "# melted so I could classify the type of flare on my plot\n",
    "gb_melted = gb.melt(id_vars=['Month'], var_name='Class', value_name='Count')\n"
   ]
  },
  {
   "cell_type": "code",
   "execution_count": 20,
   "metadata": {},
   "outputs": [
    {
     "output_type": "display_data",
     "data": {
      "text/plain": "<Figure size 1728x720 with 1 Axes>",
      "image/svg+xml": "<?xml version=\"1.0\" encoding=\"utf-8\" standalone=\"no\"?>\n<!DOCTYPE svg PUBLIC \"-//W3C//DTD SVG 1.1//EN\"\n  \"http://www.w3.org/Graphics/SVG/1.1/DTD/svg11.dtd\">\n<!-- Created with matplotlib (https://matplotlib.org/) -->\n<svg height=\"620.335pt\" version=\"1.1\" viewBox=\"0 0 1390.874375 620.335\" width=\"1390.874375pt\" xmlns=\"http://www.w3.org/2000/svg\" xmlns:xlink=\"http://www.w3.org/1999/xlink\">\n <metadata>\n  <rdf:RDF xmlns:cc=\"http://creativecommons.org/ns#\" xmlns:dc=\"http://purl.org/dc/elements/1.1/\" xmlns:rdf=\"http://www.w3.org/1999/02/22-rdf-syntax-ns#\">\n   <cc:Work>\n    <dc:type rdf:resource=\"http://purl.org/dc/dcmitype/StillImage\"/>\n    <dc:date>2021-03-05T00:18:11.586797</dc:date>\n    <dc:format>image/svg+xml</dc:format>\n    <dc:creator>\n     <cc:Agent>\n      <dc:title>Matplotlib v3.3.2, https://matplotlib.org/</dc:title>\n     </cc:Agent>\n    </dc:creator>\n   </cc:Work>\n  </rdf:RDF>\n </metadata>\n <defs>\n  <style type=\"text/css\">*{stroke-linecap:butt;stroke-linejoin:round;}</style>\n </defs>\n <g id=\"figure_1\">\n  <g id=\"patch_1\">\n   <path d=\"M 0 620.335 \nL 1390.874375 620.335 \nL 1390.874375 0 \nL 0 0 \nz\n\" style=\"fill:none;\"/>\n  </g>\n  <g id=\"axes_1\">\n   <g id=\"patch_2\">\n    <path d=\"M 44.474375 575.03625 \nL 1383.674375 575.03625 \nL 1383.674375 31.43625 \nL 44.474375 31.43625 \nz\n\" style=\"fill:#eaeaf2;\"/>\n   </g>\n   <g id=\"matplotlib.axis_1\">\n    <g id=\"xtick_1\">\n     <g id=\"text_1\">\n      <!-- Jan -->\n      <g style=\"fill:#262626;\" transform=\"translate(92.566563 589.634688)scale(0.1 -0.1)\">\n       <defs>\n        <path d=\"M 9.8125 72.90625 \nL 19.671875 72.90625 \nL 19.671875 5.078125 \nQ 19.671875 -8.109375 14.671875 -14.0625 \nQ 9.671875 -20.015625 -1.421875 -20.015625 \nL -5.171875 -20.015625 \nL -5.171875 -11.71875 \nL -2.09375 -11.71875 \nQ 4.4375 -11.71875 7.125 -8.046875 \nQ 9.8125 -4.390625 9.8125 5.078125 \nz\n\" id=\"DejaVuSans-74\"/>\n        <path d=\"M 34.28125 27.484375 \nQ 23.390625 27.484375 19.1875 25 \nQ 14.984375 22.515625 14.984375 16.5 \nQ 14.984375 11.71875 18.140625 8.90625 \nQ 21.296875 6.109375 26.703125 6.109375 \nQ 34.1875 6.109375 38.703125 11.40625 \nQ 43.21875 16.703125 43.21875 25.484375 \nL 43.21875 27.484375 \nz\nM 52.203125 31.203125 \nL 52.203125 0 \nL 43.21875 0 \nL 43.21875 8.296875 \nQ 40.140625 3.328125 35.546875 0.953125 \nQ 30.953125 -1.421875 24.3125 -1.421875 \nQ 15.921875 -1.421875 10.953125 3.296875 \nQ 6 8.015625 6 15.921875 \nQ 6 25.140625 12.171875 29.828125 \nQ 18.359375 34.515625 30.609375 34.515625 \nL 43.21875 34.515625 \nL 43.21875 35.40625 \nQ 43.21875 41.609375 39.140625 45 \nQ 35.0625 48.390625 27.6875 48.390625 \nQ 23 48.390625 18.546875 47.265625 \nQ 14.109375 46.140625 10.015625 43.890625 \nL 10.015625 52.203125 \nQ 14.9375 54.109375 19.578125 55.046875 \nQ 24.21875 56 28.609375 56 \nQ 40.484375 56 46.34375 49.84375 \nQ 52.203125 43.703125 52.203125 31.203125 \nz\n\" id=\"DejaVuSans-97\"/>\n        <path d=\"M 54.890625 33.015625 \nL 54.890625 0 \nL 45.90625 0 \nL 45.90625 32.71875 \nQ 45.90625 40.484375 42.875 44.328125 \nQ 39.84375 48.1875 33.796875 48.1875 \nQ 26.515625 48.1875 22.3125 43.546875 \nQ 18.109375 38.921875 18.109375 30.90625 \nL 18.109375 0 \nL 9.078125 0 \nL 9.078125 54.6875 \nL 18.109375 54.6875 \nL 18.109375 46.1875 \nQ 21.34375 51.125 25.703125 53.5625 \nQ 30.078125 56 35.796875 56 \nQ 45.21875 56 50.046875 50.171875 \nQ 54.890625 44.34375 54.890625 33.015625 \nz\n\" id=\"DejaVuSans-110\"/>\n       </defs>\n       <use xlink:href=\"#DejaVuSans-74\"/>\n       <use x=\"29.492188\" xlink:href=\"#DejaVuSans-97\"/>\n       <use x=\"90.771484\" xlink:href=\"#DejaVuSans-110\"/>\n      </g>\n     </g>\n    </g>\n    <g id=\"xtick_2\">\n     <g id=\"text_2\">\n      <!-- Feb -->\n      <g style=\"fill:#262626;\" transform=\"translate(203.022812 589.634688)scale(0.1 -0.1)\">\n       <defs>\n        <path d=\"M 9.8125 72.90625 \nL 51.703125 72.90625 \nL 51.703125 64.59375 \nL 19.671875 64.59375 \nL 19.671875 43.109375 \nL 48.578125 43.109375 \nL 48.578125 34.8125 \nL 19.671875 34.8125 \nL 19.671875 0 \nL 9.8125 0 \nz\n\" id=\"DejaVuSans-70\"/>\n        <path d=\"M 56.203125 29.59375 \nL 56.203125 25.203125 \nL 14.890625 25.203125 \nQ 15.484375 15.921875 20.484375 11.0625 \nQ 25.484375 6.203125 34.421875 6.203125 \nQ 39.59375 6.203125 44.453125 7.46875 \nQ 49.3125 8.734375 54.109375 11.28125 \nL 54.109375 2.78125 \nQ 49.265625 0.734375 44.1875 -0.34375 \nQ 39.109375 -1.421875 33.890625 -1.421875 \nQ 20.796875 -1.421875 13.15625 6.1875 \nQ 5.515625 13.8125 5.515625 26.8125 \nQ 5.515625 40.234375 12.765625 48.109375 \nQ 20.015625 56 32.328125 56 \nQ 43.359375 56 49.78125 48.890625 \nQ 56.203125 41.796875 56.203125 29.59375 \nz\nM 47.21875 32.234375 \nQ 47.125 39.59375 43.09375 43.984375 \nQ 39.0625 48.390625 32.421875 48.390625 \nQ 24.90625 48.390625 20.390625 44.140625 \nQ 15.875 39.890625 15.1875 32.171875 \nz\n\" id=\"DejaVuSans-101\"/>\n        <path d=\"M 48.6875 27.296875 \nQ 48.6875 37.203125 44.609375 42.84375 \nQ 40.53125 48.484375 33.40625 48.484375 \nQ 26.265625 48.484375 22.1875 42.84375 \nQ 18.109375 37.203125 18.109375 27.296875 \nQ 18.109375 17.390625 22.1875 11.75 \nQ 26.265625 6.109375 33.40625 6.109375 \nQ 40.53125 6.109375 44.609375 11.75 \nQ 48.6875 17.390625 48.6875 27.296875 \nz\nM 18.109375 46.390625 \nQ 20.953125 51.265625 25.265625 53.625 \nQ 29.59375 56 35.59375 56 \nQ 45.5625 56 51.78125 48.09375 \nQ 58.015625 40.1875 58.015625 27.296875 \nQ 58.015625 14.40625 51.78125 6.484375 \nQ 45.5625 -1.421875 35.59375 -1.421875 \nQ 29.59375 -1.421875 25.265625 0.953125 \nQ 20.953125 3.328125 18.109375 8.203125 \nL 18.109375 0 \nL 9.078125 0 \nL 9.078125 75.984375 \nL 18.109375 75.984375 \nz\n\" id=\"DejaVuSans-98\"/>\n       </defs>\n       <use xlink:href=\"#DejaVuSans-70\"/>\n       <use x=\"52.019531\" xlink:href=\"#DejaVuSans-101\"/>\n       <use x=\"113.542969\" xlink:href=\"#DejaVuSans-98\"/>\n      </g>\n     </g>\n    </g>\n    <g id=\"xtick_3\">\n     <g id=\"text_3\">\n      <!-- Mar -->\n      <g style=\"fill:#262626;\" transform=\"translate(314.040781 589.634688)scale(0.1 -0.1)\">\n       <defs>\n        <path d=\"M 9.8125 72.90625 \nL 24.515625 72.90625 \nL 43.109375 23.296875 \nL 61.8125 72.90625 \nL 76.515625 72.90625 \nL 76.515625 0 \nL 66.890625 0 \nL 66.890625 64.015625 \nL 48.09375 14.015625 \nL 38.1875 14.015625 \nL 19.390625 64.015625 \nL 19.390625 0 \nL 9.8125 0 \nz\n\" id=\"DejaVuSans-77\"/>\n        <path d=\"M 41.109375 46.296875 \nQ 39.59375 47.171875 37.8125 47.578125 \nQ 36.03125 48 33.890625 48 \nQ 26.265625 48 22.1875 43.046875 \nQ 18.109375 38.09375 18.109375 28.8125 \nL 18.109375 0 \nL 9.078125 0 \nL 9.078125 54.6875 \nL 18.109375 54.6875 \nL 18.109375 46.1875 \nQ 20.953125 51.171875 25.484375 53.578125 \nQ 30.03125 56 36.53125 56 \nQ 37.453125 56 38.578125 55.875 \nQ 39.703125 55.765625 41.0625 55.515625 \nz\n\" id=\"DejaVuSans-114\"/>\n       </defs>\n       <use xlink:href=\"#DejaVuSans-77\"/>\n       <use x=\"86.279297\" xlink:href=\"#DejaVuSans-97\"/>\n       <use x=\"147.558594\" xlink:href=\"#DejaVuSans-114\"/>\n      </g>\n     </g>\n    </g>\n    <g id=\"xtick_4\">\n     <g id=\"text_4\">\n      <!-- Apr -->\n      <g style=\"fill:#262626;\" transform=\"translate(426.424375 589.634688)scale(0.1 -0.1)\">\n       <defs>\n        <path d=\"M 34.1875 63.1875 \nL 20.796875 26.90625 \nL 47.609375 26.90625 \nz\nM 28.609375 72.90625 \nL 39.796875 72.90625 \nL 67.578125 0 \nL 57.328125 0 \nL 50.6875 18.703125 \nL 17.828125 18.703125 \nL 11.1875 0 \nL 0.78125 0 \nz\n\" id=\"DejaVuSans-65\"/>\n        <path d=\"M 18.109375 8.203125 \nL 18.109375 -20.796875 \nL 9.078125 -20.796875 \nL 9.078125 54.6875 \nL 18.109375 54.6875 \nL 18.109375 46.390625 \nQ 20.953125 51.265625 25.265625 53.625 \nQ 29.59375 56 35.59375 56 \nQ 45.5625 56 51.78125 48.09375 \nQ 58.015625 40.1875 58.015625 27.296875 \nQ 58.015625 14.40625 51.78125 6.484375 \nQ 45.5625 -1.421875 35.59375 -1.421875 \nQ 29.59375 -1.421875 25.265625 0.953125 \nQ 20.953125 3.328125 18.109375 8.203125 \nz\nM 48.6875 27.296875 \nQ 48.6875 37.203125 44.609375 42.84375 \nQ 40.53125 48.484375 33.40625 48.484375 \nQ 26.265625 48.484375 22.1875 42.84375 \nQ 18.109375 37.203125 18.109375 27.296875 \nQ 18.109375 17.390625 22.1875 11.75 \nQ 26.265625 6.109375 33.40625 6.109375 \nQ 40.53125 6.109375 44.609375 11.75 \nQ 48.6875 17.390625 48.6875 27.296875 \nz\n\" id=\"DejaVuSans-112\"/>\n       </defs>\n       <use xlink:href=\"#DejaVuSans-65\"/>\n       <use x=\"68.408203\" xlink:href=\"#DejaVuSans-112\"/>\n       <use x=\"131.884766\" xlink:href=\"#DejaVuSans-114\"/>\n      </g>\n     </g>\n    </g>\n    <g id=\"xtick_5\">\n     <g id=\"text_5\">\n      <!-- May -->\n      <g style=\"fill:#262626;\" transform=\"translate(536.336875 589.634688)scale(0.1 -0.1)\">\n       <defs>\n        <path d=\"M 32.171875 -5.078125 \nQ 28.375 -14.84375 24.75 -17.8125 \nQ 21.140625 -20.796875 15.09375 -20.796875 \nL 7.90625 -20.796875 \nL 7.90625 -13.28125 \nL 13.1875 -13.28125 \nQ 16.890625 -13.28125 18.9375 -11.515625 \nQ 21 -9.765625 23.484375 -3.21875 \nL 25.09375 0.875 \nL 2.984375 54.6875 \nL 12.5 54.6875 \nL 29.59375 11.921875 \nL 46.6875 54.6875 \nL 56.203125 54.6875 \nz\n\" id=\"DejaVuSans-121\"/>\n       </defs>\n       <use xlink:href=\"#DejaVuSans-77\"/>\n       <use x=\"86.279297\" xlink:href=\"#DejaVuSans-97\"/>\n       <use x=\"147.558594\" xlink:href=\"#DejaVuSans-121\"/>\n      </g>\n     </g>\n    </g>\n    <g id=\"xtick_6\">\n     <g id=\"text_6\">\n      <!-- Jun -->\n      <g style=\"fill:#262626;\" transform=\"translate(650.461875 589.634688)scale(0.1 -0.1)\">\n       <defs>\n        <path d=\"M 8.5 21.578125 \nL 8.5 54.6875 \nL 17.484375 54.6875 \nL 17.484375 21.921875 \nQ 17.484375 14.15625 20.5 10.265625 \nQ 23.53125 6.390625 29.59375 6.390625 \nQ 36.859375 6.390625 41.078125 11.03125 \nQ 45.3125 15.671875 45.3125 23.6875 \nL 45.3125 54.6875 \nL 54.296875 54.6875 \nL 54.296875 0 \nL 45.3125 0 \nL 45.3125 8.40625 \nQ 42.046875 3.421875 37.71875 1 \nQ 33.40625 -1.421875 27.6875 -1.421875 \nQ 18.265625 -1.421875 13.375 4.4375 \nQ 8.5 10.296875 8.5 21.578125 \nz\nM 31.109375 56 \nz\n\" id=\"DejaVuSans-117\"/>\n       </defs>\n       <use xlink:href=\"#DejaVuSans-74\"/>\n       <use x=\"29.492188\" xlink:href=\"#DejaVuSans-117\"/>\n       <use x=\"92.871094\" xlink:href=\"#DejaVuSans-110\"/>\n      </g>\n     </g>\n    </g>\n    <g id=\"xtick_7\">\n     <g id=\"text_7\">\n      <!-- July -->\n      <g style=\"fill:#262626;\" transform=\"translate(760.882187 589.634688)scale(0.1 -0.1)\">\n       <defs>\n        <path d=\"M 9.421875 75.984375 \nL 18.40625 75.984375 \nL 18.40625 0 \nL 9.421875 0 \nz\n\" id=\"DejaVuSans-108\"/>\n       </defs>\n       <use xlink:href=\"#DejaVuSans-74\"/>\n       <use x=\"29.492188\" xlink:href=\"#DejaVuSans-117\"/>\n       <use x=\"92.871094\" xlink:href=\"#DejaVuSans-108\"/>\n       <use x=\"120.654297\" xlink:href=\"#DejaVuSans-121\"/>\n      </g>\n     </g>\n    </g>\n    <g id=\"xtick_8\">\n     <g id=\"text_8\">\n      <!-- Aug -->\n      <g style=\"fill:#262626;\" transform=\"translate(871.711094 589.634688)scale(0.1 -0.1)\">\n       <defs>\n        <path d=\"M 45.40625 27.984375 \nQ 45.40625 37.75 41.375 43.109375 \nQ 37.359375 48.484375 30.078125 48.484375 \nQ 22.859375 48.484375 18.828125 43.109375 \nQ 14.796875 37.75 14.796875 27.984375 \nQ 14.796875 18.265625 18.828125 12.890625 \nQ 22.859375 7.515625 30.078125 7.515625 \nQ 37.359375 7.515625 41.375 12.890625 \nQ 45.40625 18.265625 45.40625 27.984375 \nz\nM 54.390625 6.78125 \nQ 54.390625 -7.171875 48.1875 -13.984375 \nQ 42 -20.796875 29.203125 -20.796875 \nQ 24.46875 -20.796875 20.265625 -20.09375 \nQ 16.0625 -19.390625 12.109375 -17.921875 \nL 12.109375 -9.1875 \nQ 16.0625 -11.328125 19.921875 -12.34375 \nQ 23.78125 -13.375 27.78125 -13.375 \nQ 36.625 -13.375 41.015625 -8.765625 \nQ 45.40625 -4.15625 45.40625 5.171875 \nL 45.40625 9.625 \nQ 42.625 4.78125 38.28125 2.390625 \nQ 33.9375 0 27.875 0 \nQ 17.828125 0 11.671875 7.65625 \nQ 5.515625 15.328125 5.515625 27.984375 \nQ 5.515625 40.671875 11.671875 48.328125 \nQ 17.828125 56 27.875 56 \nQ 33.9375 56 38.28125 53.609375 \nQ 42.625 51.21875 45.40625 46.390625 \nL 45.40625 54.6875 \nL 54.390625 54.6875 \nz\n\" id=\"DejaVuSans-103\"/>\n       </defs>\n       <use xlink:href=\"#DejaVuSans-65\"/>\n       <use x=\"68.408203\" xlink:href=\"#DejaVuSans-117\"/>\n       <use x=\"131.787109\" xlink:href=\"#DejaVuSans-103\"/>\n      </g>\n     </g>\n    </g>\n    <g id=\"xtick_9\">\n     <g id=\"text_9\">\n      <!-- Sep -->\n      <g style=\"fill:#262626;\" transform=\"translate(983.649375 589.634688)scale(0.1 -0.1)\">\n       <defs>\n        <path d=\"M 53.515625 70.515625 \nL 53.515625 60.890625 \nQ 47.90625 63.578125 42.921875 64.890625 \nQ 37.9375 66.21875 33.296875 66.21875 \nQ 25.25 66.21875 20.875 63.09375 \nQ 16.5 59.96875 16.5 54.203125 \nQ 16.5 49.359375 19.40625 46.890625 \nQ 22.3125 44.4375 30.421875 42.921875 \nL 36.375 41.703125 \nQ 47.40625 39.59375 52.65625 34.296875 \nQ 57.90625 29 57.90625 20.125 \nQ 57.90625 9.515625 50.796875 4.046875 \nQ 43.703125 -1.421875 29.984375 -1.421875 \nQ 24.8125 -1.421875 18.96875 -0.25 \nQ 13.140625 0.921875 6.890625 3.21875 \nL 6.890625 13.375 \nQ 12.890625 10.015625 18.65625 8.296875 \nQ 24.421875 6.59375 29.984375 6.59375 \nQ 38.421875 6.59375 43.015625 9.90625 \nQ 47.609375 13.234375 47.609375 19.390625 \nQ 47.609375 24.75 44.3125 27.78125 \nQ 41.015625 30.8125 33.5 32.328125 \nL 27.484375 33.5 \nQ 16.453125 35.6875 11.515625 40.375 \nQ 6.59375 45.0625 6.59375 53.421875 \nQ 6.59375 63.09375 13.40625 68.65625 \nQ 20.21875 74.21875 32.171875 74.21875 \nQ 37.3125 74.21875 42.625 73.28125 \nQ 47.953125 72.359375 53.515625 70.515625 \nz\n\" id=\"DejaVuSans-83\"/>\n       </defs>\n       <use xlink:href=\"#DejaVuSans-83\"/>\n       <use x=\"63.476562\" xlink:href=\"#DejaVuSans-101\"/>\n       <use x=\"125\" xlink:href=\"#DejaVuSans-112\"/>\n      </g>\n     </g>\n    </g>\n    <g id=\"xtick_10\">\n     <g id=\"text_10\">\n      <!-- Oct -->\n      <g style=\"fill:#262626;\" transform=\"translate(1096.029063 589.634688)scale(0.1 -0.1)\">\n       <defs>\n        <path d=\"M 39.40625 66.21875 \nQ 28.65625 66.21875 22.328125 58.203125 \nQ 16.015625 50.203125 16.015625 36.375 \nQ 16.015625 22.609375 22.328125 14.59375 \nQ 28.65625 6.59375 39.40625 6.59375 \nQ 50.140625 6.59375 56.421875 14.59375 \nQ 62.703125 22.609375 62.703125 36.375 \nQ 62.703125 50.203125 56.421875 58.203125 \nQ 50.140625 66.21875 39.40625 66.21875 \nz\nM 39.40625 74.21875 \nQ 54.734375 74.21875 63.90625 63.9375 \nQ 73.09375 53.65625 73.09375 36.375 \nQ 73.09375 19.140625 63.90625 8.859375 \nQ 54.734375 -1.421875 39.40625 -1.421875 \nQ 24.03125 -1.421875 14.8125 8.828125 \nQ 5.609375 19.09375 5.609375 36.375 \nQ 5.609375 53.65625 14.8125 63.9375 \nQ 24.03125 74.21875 39.40625 74.21875 \nz\n\" id=\"DejaVuSans-79\"/>\n        <path d=\"M 48.78125 52.59375 \nL 48.78125 44.1875 \nQ 44.96875 46.296875 41.140625 47.34375 \nQ 37.3125 48.390625 33.40625 48.390625 \nQ 24.65625 48.390625 19.8125 42.84375 \nQ 14.984375 37.3125 14.984375 27.296875 \nQ 14.984375 17.28125 19.8125 11.734375 \nQ 24.65625 6.203125 33.40625 6.203125 \nQ 37.3125 6.203125 41.140625 7.25 \nQ 44.96875 8.296875 48.78125 10.40625 \nL 48.78125 2.09375 \nQ 45.015625 0.34375 40.984375 -0.53125 \nQ 36.96875 -1.421875 32.421875 -1.421875 \nQ 20.0625 -1.421875 12.78125 6.34375 \nQ 5.515625 14.109375 5.515625 27.296875 \nQ 5.515625 40.671875 12.859375 48.328125 \nQ 20.21875 56 33.015625 56 \nQ 37.15625 56 41.109375 55.140625 \nQ 45.0625 54.296875 48.78125 52.59375 \nz\n\" id=\"DejaVuSans-99\"/>\n        <path d=\"M 18.3125 70.21875 \nL 18.3125 54.6875 \nL 36.8125 54.6875 \nL 36.8125 47.703125 \nL 18.3125 47.703125 \nL 18.3125 18.015625 \nQ 18.3125 11.328125 20.140625 9.421875 \nQ 21.96875 7.515625 27.59375 7.515625 \nL 36.8125 7.515625 \nL 36.8125 0 \nL 27.59375 0 \nQ 17.1875 0 13.234375 3.875 \nQ 9.28125 7.765625 9.28125 18.015625 \nL 9.28125 47.703125 \nL 2.6875 47.703125 \nL 2.6875 54.6875 \nL 9.28125 54.6875 \nL 9.28125 70.21875 \nz\n\" id=\"DejaVuSans-116\"/>\n       </defs>\n       <use xlink:href=\"#DejaVuSans-79\"/>\n       <use x=\"78.710938\" xlink:href=\"#DejaVuSans-99\"/>\n       <use x=\"133.691406\" xlink:href=\"#DejaVuSans-116\"/>\n      </g>\n     </g>\n    </g>\n    <g id=\"xtick_11\">\n     <g id=\"text_11\">\n      <!-- Nov -->\n      <g style=\"fill:#262626;\" transform=\"translate(1206.515 589.634688)scale(0.1 -0.1)\">\n       <defs>\n        <path d=\"M 9.8125 72.90625 \nL 23.09375 72.90625 \nL 55.421875 11.921875 \nL 55.421875 72.90625 \nL 64.984375 72.90625 \nL 64.984375 0 \nL 51.703125 0 \nL 19.390625 60.984375 \nL 19.390625 0 \nL 9.8125 0 \nz\n\" id=\"DejaVuSans-78\"/>\n        <path d=\"M 30.609375 48.390625 \nQ 23.390625 48.390625 19.1875 42.75 \nQ 14.984375 37.109375 14.984375 27.296875 \nQ 14.984375 17.484375 19.15625 11.84375 \nQ 23.34375 6.203125 30.609375 6.203125 \nQ 37.796875 6.203125 41.984375 11.859375 \nQ 46.1875 17.53125 46.1875 27.296875 \nQ 46.1875 37.015625 41.984375 42.703125 \nQ 37.796875 48.390625 30.609375 48.390625 \nz\nM 30.609375 56 \nQ 42.328125 56 49.015625 48.375 \nQ 55.71875 40.765625 55.71875 27.296875 \nQ 55.71875 13.875 49.015625 6.21875 \nQ 42.328125 -1.421875 30.609375 -1.421875 \nQ 18.84375 -1.421875 12.171875 6.21875 \nQ 5.515625 13.875 5.515625 27.296875 \nQ 5.515625 40.765625 12.171875 48.375 \nQ 18.84375 56 30.609375 56 \nz\n\" id=\"DejaVuSans-111\"/>\n        <path d=\"M 2.984375 54.6875 \nL 12.5 54.6875 \nL 29.59375 8.796875 \nL 46.6875 54.6875 \nL 56.203125 54.6875 \nL 35.6875 0 \nL 23.484375 0 \nz\n\" id=\"DejaVuSans-118\"/>\n       </defs>\n       <use xlink:href=\"#DejaVuSans-78\"/>\n       <use x=\"74.804688\" xlink:href=\"#DejaVuSans-111\"/>\n       <use x=\"135.986328\" xlink:href=\"#DejaVuSans-118\"/>\n      </g>\n     </g>\n    </g>\n    <g id=\"xtick_12\">\n     <g id=\"text_12\">\n      <!-- Dec -->\n      <g style=\"fill:#262626;\" transform=\"translate(1318.198594 589.634688)scale(0.1 -0.1)\">\n       <defs>\n        <path d=\"M 19.671875 64.796875 \nL 19.671875 8.109375 \nL 31.59375 8.109375 \nQ 46.6875 8.109375 53.6875 14.9375 \nQ 60.6875 21.78125 60.6875 36.53125 \nQ 60.6875 51.171875 53.6875 57.984375 \nQ 46.6875 64.796875 31.59375 64.796875 \nz\nM 9.8125 72.90625 \nL 30.078125 72.90625 \nQ 51.265625 72.90625 61.171875 64.09375 \nQ 71.09375 55.28125 71.09375 36.53125 \nQ 71.09375 17.671875 61.125 8.828125 \nQ 51.171875 0 30.078125 0 \nL 9.8125 0 \nz\n\" id=\"DejaVuSans-68\"/>\n       </defs>\n       <use xlink:href=\"#DejaVuSans-68\"/>\n       <use x=\"77.001953\" xlink:href=\"#DejaVuSans-101\"/>\n       <use x=\"138.525391\" xlink:href=\"#DejaVuSans-99\"/>\n      </g>\n     </g>\n    </g>\n    <g id=\"text_13\">\n     <!-- Month -->\n     <g style=\"fill:#262626;\" transform=\"translate(685.866406 609.391563)scale(0.18 -0.18)\">\n      <defs>\n       <path d=\"M 54.890625 33.015625 \nL 54.890625 0 \nL 45.90625 0 \nL 45.90625 32.71875 \nQ 45.90625 40.484375 42.875 44.328125 \nQ 39.84375 48.1875 33.796875 48.1875 \nQ 26.515625 48.1875 22.3125 43.546875 \nQ 18.109375 38.921875 18.109375 30.90625 \nL 18.109375 0 \nL 9.078125 0 \nL 9.078125 75.984375 \nL 18.109375 75.984375 \nL 18.109375 46.1875 \nQ 21.34375 51.125 25.703125 53.5625 \nQ 30.078125 56 35.796875 56 \nQ 45.21875 56 50.046875 50.171875 \nQ 54.890625 44.34375 54.890625 33.015625 \nz\n\" id=\"DejaVuSans-104\"/>\n      </defs>\n      <use xlink:href=\"#DejaVuSans-77\"/>\n      <use x=\"86.279297\" xlink:href=\"#DejaVuSans-111\"/>\n      <use x=\"147.460938\" xlink:href=\"#DejaVuSans-110\"/>\n      <use x=\"210.839844\" xlink:href=\"#DejaVuSans-116\"/>\n      <use x=\"250.048828\" xlink:href=\"#DejaVuSans-104\"/>\n     </g>\n    </g>\n   </g>\n   <g id=\"matplotlib.axis_2\">\n    <g id=\"ytick_1\">\n     <g id=\"line2d_1\">\n      <path clip-path=\"url(#p990ecdf367)\" d=\"M 44.474375 575.03625 \nL 1383.674375 575.03625 \n\" style=\"fill:none;stroke:#ffffff;stroke-linecap:round;stroke-width:0.8;\"/>\n     </g>\n     <g id=\"text_14\">\n      <!-- 0 -->\n      <g style=\"fill:#262626;\" transform=\"translate(31.111875 578.835469)scale(0.1 -0.1)\">\n       <defs>\n        <path d=\"M 31.78125 66.40625 \nQ 24.171875 66.40625 20.328125 58.90625 \nQ 16.5 51.421875 16.5 36.375 \nQ 16.5 21.390625 20.328125 13.890625 \nQ 24.171875 6.390625 31.78125 6.390625 \nQ 39.453125 6.390625 43.28125 13.890625 \nQ 47.125 21.390625 47.125 36.375 \nQ 47.125 51.421875 43.28125 58.90625 \nQ 39.453125 66.40625 31.78125 66.40625 \nz\nM 31.78125 74.21875 \nQ 44.046875 74.21875 50.515625 64.515625 \nQ 56.984375 54.828125 56.984375 36.375 \nQ 56.984375 17.96875 50.515625 8.265625 \nQ 44.046875 -1.421875 31.78125 -1.421875 \nQ 19.53125 -1.421875 13.0625 8.265625 \nQ 6.59375 17.96875 6.59375 36.375 \nQ 6.59375 54.828125 13.0625 64.515625 \nQ 19.53125 74.21875 31.78125 74.21875 \nz\n\" id=\"DejaVuSans-48\"/>\n       </defs>\n       <use xlink:href=\"#DejaVuSans-48\"/>\n      </g>\n     </g>\n    </g>\n    <g id=\"ytick_2\">\n     <g id=\"line2d_2\">\n      <path clip-path=\"url(#p990ecdf367)\" d=\"M 44.474375 488.750536 \nL 1383.674375 488.750536 \n\" style=\"fill:none;stroke:#ffffff;stroke-linecap:round;stroke-width:0.8;\"/>\n     </g>\n     <g id=\"text_15\">\n      <!-- 10 -->\n      <g style=\"fill:#262626;\" transform=\"translate(24.749375 492.549754)scale(0.1 -0.1)\">\n       <defs>\n        <path d=\"M 12.40625 8.296875 \nL 28.515625 8.296875 \nL 28.515625 63.921875 \nL 10.984375 60.40625 \nL 10.984375 69.390625 \nL 28.421875 72.90625 \nL 38.28125 72.90625 \nL 38.28125 8.296875 \nL 54.390625 8.296875 \nL 54.390625 0 \nL 12.40625 0 \nz\n\" id=\"DejaVuSans-49\"/>\n       </defs>\n       <use xlink:href=\"#DejaVuSans-49\"/>\n       <use x=\"63.623047\" xlink:href=\"#DejaVuSans-48\"/>\n      </g>\n     </g>\n    </g>\n    <g id=\"ytick_3\">\n     <g id=\"line2d_3\">\n      <path clip-path=\"url(#p990ecdf367)\" d=\"M 44.474375 402.464821 \nL 1383.674375 402.464821 \n\" style=\"fill:none;stroke:#ffffff;stroke-linecap:round;stroke-width:0.8;\"/>\n     </g>\n     <g id=\"text_16\">\n      <!-- 20 -->\n      <g style=\"fill:#262626;\" transform=\"translate(24.749375 406.26404)scale(0.1 -0.1)\">\n       <defs>\n        <path d=\"M 19.1875 8.296875 \nL 53.609375 8.296875 \nL 53.609375 0 \nL 7.328125 0 \nL 7.328125 8.296875 \nQ 12.9375 14.109375 22.625 23.890625 \nQ 32.328125 33.6875 34.8125 36.53125 \nQ 39.546875 41.84375 41.421875 45.53125 \nQ 43.3125 49.21875 43.3125 52.78125 \nQ 43.3125 58.59375 39.234375 62.25 \nQ 35.15625 65.921875 28.609375 65.921875 \nQ 23.96875 65.921875 18.8125 64.3125 \nQ 13.671875 62.703125 7.8125 59.421875 \nL 7.8125 69.390625 \nQ 13.765625 71.78125 18.9375 73 \nQ 24.125 74.21875 28.421875 74.21875 \nQ 39.75 74.21875 46.484375 68.546875 \nQ 53.21875 62.890625 53.21875 53.421875 \nQ 53.21875 48.921875 51.53125 44.890625 \nQ 49.859375 40.875 45.40625 35.40625 \nQ 44.1875 33.984375 37.640625 27.21875 \nQ 31.109375 20.453125 19.1875 8.296875 \nz\n\" id=\"DejaVuSans-50\"/>\n       </defs>\n       <use xlink:href=\"#DejaVuSans-50\"/>\n       <use x=\"63.623047\" xlink:href=\"#DejaVuSans-48\"/>\n      </g>\n     </g>\n    </g>\n    <g id=\"ytick_4\">\n     <g id=\"line2d_4\">\n      <path clip-path=\"url(#p990ecdf367)\" d=\"M 44.474375 316.179107 \nL 1383.674375 316.179107 \n\" style=\"fill:none;stroke:#ffffff;stroke-linecap:round;stroke-width:0.8;\"/>\n     </g>\n     <g id=\"text_17\">\n      <!-- 30 -->\n      <g style=\"fill:#262626;\" transform=\"translate(24.749375 319.978326)scale(0.1 -0.1)\">\n       <defs>\n        <path d=\"M 40.578125 39.3125 \nQ 47.65625 37.796875 51.625 33 \nQ 55.609375 28.21875 55.609375 21.1875 \nQ 55.609375 10.40625 48.1875 4.484375 \nQ 40.765625 -1.421875 27.09375 -1.421875 \nQ 22.515625 -1.421875 17.65625 -0.515625 \nQ 12.796875 0.390625 7.625 2.203125 \nL 7.625 11.71875 \nQ 11.71875 9.328125 16.59375 8.109375 \nQ 21.484375 6.890625 26.8125 6.890625 \nQ 36.078125 6.890625 40.9375 10.546875 \nQ 45.796875 14.203125 45.796875 21.1875 \nQ 45.796875 27.640625 41.28125 31.265625 \nQ 36.765625 34.90625 28.71875 34.90625 \nL 20.21875 34.90625 \nL 20.21875 43.015625 \nL 29.109375 43.015625 \nQ 36.375 43.015625 40.234375 45.921875 \nQ 44.09375 48.828125 44.09375 54.296875 \nQ 44.09375 59.90625 40.109375 62.90625 \nQ 36.140625 65.921875 28.71875 65.921875 \nQ 24.65625 65.921875 20.015625 65.03125 \nQ 15.375 64.15625 9.8125 62.3125 \nL 9.8125 71.09375 \nQ 15.4375 72.65625 20.34375 73.4375 \nQ 25.25 74.21875 29.59375 74.21875 \nQ 40.828125 74.21875 47.359375 69.109375 \nQ 53.90625 64.015625 53.90625 55.328125 \nQ 53.90625 49.265625 50.4375 45.09375 \nQ 46.96875 40.921875 40.578125 39.3125 \nz\n\" id=\"DejaVuSans-51\"/>\n       </defs>\n       <use xlink:href=\"#DejaVuSans-51\"/>\n       <use x=\"63.623047\" xlink:href=\"#DejaVuSans-48\"/>\n      </g>\n     </g>\n    </g>\n    <g id=\"ytick_5\">\n     <g id=\"line2d_5\">\n      <path clip-path=\"url(#p990ecdf367)\" d=\"M 44.474375 229.893393 \nL 1383.674375 229.893393 \n\" style=\"fill:none;stroke:#ffffff;stroke-linecap:round;stroke-width:0.8;\"/>\n     </g>\n     <g id=\"text_18\">\n      <!-- 40 -->\n      <g style=\"fill:#262626;\" transform=\"translate(24.749375 233.692612)scale(0.1 -0.1)\">\n       <defs>\n        <path d=\"M 37.796875 64.3125 \nL 12.890625 25.390625 \nL 37.796875 25.390625 \nz\nM 35.203125 72.90625 \nL 47.609375 72.90625 \nL 47.609375 25.390625 \nL 58.015625 25.390625 \nL 58.015625 17.1875 \nL 47.609375 17.1875 \nL 47.609375 0 \nL 37.796875 0 \nL 37.796875 17.1875 \nL 4.890625 17.1875 \nL 4.890625 26.703125 \nz\n\" id=\"DejaVuSans-52\"/>\n       </defs>\n       <use xlink:href=\"#DejaVuSans-52\"/>\n       <use x=\"63.623047\" xlink:href=\"#DejaVuSans-48\"/>\n      </g>\n     </g>\n    </g>\n    <g id=\"ytick_6\">\n     <g id=\"line2d_6\">\n      <path clip-path=\"url(#p990ecdf367)\" d=\"M 44.474375 143.607679 \nL 1383.674375 143.607679 \n\" style=\"fill:none;stroke:#ffffff;stroke-linecap:round;stroke-width:0.8;\"/>\n     </g>\n     <g id=\"text_19\">\n      <!-- 50 -->\n      <g style=\"fill:#262626;\" transform=\"translate(24.749375 147.406897)scale(0.1 -0.1)\">\n       <defs>\n        <path d=\"M 10.796875 72.90625 \nL 49.515625 72.90625 \nL 49.515625 64.59375 \nL 19.828125 64.59375 \nL 19.828125 46.734375 \nQ 21.96875 47.46875 24.109375 47.828125 \nQ 26.265625 48.1875 28.421875 48.1875 \nQ 40.625 48.1875 47.75 41.5 \nQ 54.890625 34.8125 54.890625 23.390625 \nQ 54.890625 11.625 47.5625 5.09375 \nQ 40.234375 -1.421875 26.90625 -1.421875 \nQ 22.3125 -1.421875 17.546875 -0.640625 \nQ 12.796875 0.140625 7.71875 1.703125 \nL 7.71875 11.625 \nQ 12.109375 9.234375 16.796875 8.0625 \nQ 21.484375 6.890625 26.703125 6.890625 \nQ 35.15625 6.890625 40.078125 11.328125 \nQ 45.015625 15.765625 45.015625 23.390625 \nQ 45.015625 31 40.078125 35.4375 \nQ 35.15625 39.890625 26.703125 39.890625 \nQ 22.75 39.890625 18.8125 39.015625 \nQ 14.890625 38.140625 10.796875 36.28125 \nz\n\" id=\"DejaVuSans-53\"/>\n       </defs>\n       <use xlink:href=\"#DejaVuSans-53\"/>\n       <use x=\"63.623047\" xlink:href=\"#DejaVuSans-48\"/>\n      </g>\n     </g>\n    </g>\n    <g id=\"ytick_7\">\n     <g id=\"line2d_7\">\n      <path clip-path=\"url(#p990ecdf367)\" d=\"M 44.474375 57.321964 \nL 1383.674375 57.321964 \n\" style=\"fill:none;stroke:#ffffff;stroke-linecap:round;stroke-width:0.8;\"/>\n     </g>\n     <g id=\"text_20\">\n      <!-- 60 -->\n      <g style=\"fill:#262626;\" transform=\"translate(24.749375 61.121183)scale(0.1 -0.1)\">\n       <defs>\n        <path d=\"M 33.015625 40.375 \nQ 26.375 40.375 22.484375 35.828125 \nQ 18.609375 31.296875 18.609375 23.390625 \nQ 18.609375 15.53125 22.484375 10.953125 \nQ 26.375 6.390625 33.015625 6.390625 \nQ 39.65625 6.390625 43.53125 10.953125 \nQ 47.40625 15.53125 47.40625 23.390625 \nQ 47.40625 31.296875 43.53125 35.828125 \nQ 39.65625 40.375 33.015625 40.375 \nz\nM 52.59375 71.296875 \nL 52.59375 62.3125 \nQ 48.875 64.0625 45.09375 64.984375 \nQ 41.3125 65.921875 37.59375 65.921875 \nQ 27.828125 65.921875 22.671875 59.328125 \nQ 17.53125 52.734375 16.796875 39.40625 \nQ 19.671875 43.65625 24.015625 45.921875 \nQ 28.375 48.1875 33.59375 48.1875 \nQ 44.578125 48.1875 50.953125 41.515625 \nQ 57.328125 34.859375 57.328125 23.390625 \nQ 57.328125 12.15625 50.6875 5.359375 \nQ 44.046875 -1.421875 33.015625 -1.421875 \nQ 20.359375 -1.421875 13.671875 8.265625 \nQ 6.984375 17.96875 6.984375 36.375 \nQ 6.984375 53.65625 15.1875 63.9375 \nQ 23.390625 74.21875 37.203125 74.21875 \nQ 40.921875 74.21875 44.703125 73.484375 \nQ 48.484375 72.75 52.59375 71.296875 \nz\n\" id=\"DejaVuSans-54\"/>\n       </defs>\n       <use xlink:href=\"#DejaVuSans-54\"/>\n       <use x=\"63.623047\" xlink:href=\"#DejaVuSans-48\"/>\n      </g>\n     </g>\n    </g>\n    <g id=\"text_21\">\n     <!-- Flare Count -->\n     <g style=\"fill:#262626;\" transform=\"translate(17.837813 343.536563)rotate(-90)scale(0.14 -0.14)\">\n      <defs>\n       <path id=\"DejaVuSans-32\"/>\n       <path d=\"M 64.40625 67.28125 \nL 64.40625 56.890625 \nQ 59.421875 61.53125 53.78125 63.8125 \nQ 48.140625 66.109375 41.796875 66.109375 \nQ 29.296875 66.109375 22.65625 58.46875 \nQ 16.015625 50.828125 16.015625 36.375 \nQ 16.015625 21.96875 22.65625 14.328125 \nQ 29.296875 6.6875 41.796875 6.6875 \nQ 48.140625 6.6875 53.78125 8.984375 \nQ 59.421875 11.28125 64.40625 15.921875 \nL 64.40625 5.609375 \nQ 59.234375 2.09375 53.4375 0.328125 \nQ 47.65625 -1.421875 41.21875 -1.421875 \nQ 24.65625 -1.421875 15.125 8.703125 \nQ 5.609375 18.84375 5.609375 36.375 \nQ 5.609375 53.953125 15.125 64.078125 \nQ 24.65625 74.21875 41.21875 74.21875 \nQ 47.75 74.21875 53.53125 72.484375 \nQ 59.328125 70.75 64.40625 67.28125 \nz\n\" id=\"DejaVuSans-67\"/>\n      </defs>\n      <use xlink:href=\"#DejaVuSans-70\"/>\n      <use x=\"57.519531\" xlink:href=\"#DejaVuSans-108\"/>\n      <use x=\"85.302734\" xlink:href=\"#DejaVuSans-97\"/>\n      <use x=\"146.582031\" xlink:href=\"#DejaVuSans-114\"/>\n      <use x=\"185.445312\" xlink:href=\"#DejaVuSans-101\"/>\n      <use x=\"246.96875\" xlink:href=\"#DejaVuSans-32\"/>\n      <use x=\"278.755859\" xlink:href=\"#DejaVuSans-67\"/>\n      <use x=\"348.580078\" xlink:href=\"#DejaVuSans-111\"/>\n      <use x=\"409.761719\" xlink:href=\"#DejaVuSans-117\"/>\n      <use x=\"473.140625\" xlink:href=\"#DejaVuSans-110\"/>\n      <use x=\"536.519531\" xlink:href=\"#DejaVuSans-116\"/>\n     </g>\n    </g>\n   </g>\n   <g id=\"patch_3\">\n    <path clip-path=\"url(#p990ecdf367)\" d=\"M 55.634375 575.03625 \nL 100.274375 575.03625 \nL 100.274375 549.150536 \nL 55.634375 549.150536 \nz\n\" style=\"fill:#692c75;stroke:#ffffff;stroke-linejoin:miter;\"/>\n   </g>\n   <g id=\"patch_4\">\n    <path clip-path=\"url(#p990ecdf367)\" d=\"M 167.234375 575.03625 \nL 211.874375 575.03625 \nL 211.874375 566.407679 \nL 167.234375 566.407679 \nz\n\" style=\"fill:#692c75;stroke:#ffffff;stroke-linejoin:miter;\"/>\n   </g>\n   <g id=\"patch_5\">\n    <path clip-path=\"url(#p990ecdf367)\" d=\"M 278.834375 575.03625 \nL 323.474375 575.03625 \nL 323.474375 566.407679 \nL 278.834375 566.407679 \nz\n\" style=\"fill:#692c75;stroke:#ffffff;stroke-linejoin:miter;\"/>\n   </g>\n   <g id=\"patch_6\">\n    <path clip-path=\"url(#p990ecdf367)\" d=\"M 390.434375 575.03625 \nL 435.074375 575.03625 \nL 435.074375 549.150536 \nL 390.434375 549.150536 \nz\n\" style=\"fill:#692c75;stroke:#ffffff;stroke-linejoin:miter;\"/>\n   </g>\n   <g id=\"patch_7\">\n    <path clip-path=\"url(#p990ecdf367)\" d=\"M 502.034375 575.03625 \nL 546.674375 575.03625 \nL 546.674375 540.521964 \nL 502.034375 540.521964 \nz\n\" style=\"fill:#692c75;stroke:#ffffff;stroke-linejoin:miter;\"/>\n   </g>\n   <g id=\"patch_8\">\n    <path clip-path=\"url(#p990ecdf367)\" d=\"M 613.634375 575.03625 \nL 658.274375 575.03625 \nL 658.274375 575.03625 \nL 613.634375 575.03625 \nz\n\" style=\"fill:#692c75;stroke:#ffffff;stroke-linejoin:miter;\"/>\n   </g>\n   <g id=\"patch_9\">\n    <path clip-path=\"url(#p990ecdf367)\" d=\"M 725.234375 575.03625 \nL 769.874375 575.03625 \nL 769.874375 540.521964 \nL 725.234375 540.521964 \nz\n\" style=\"fill:#692c75;stroke:#ffffff;stroke-linejoin:miter;\"/>\n   </g>\n   <g id=\"patch_10\">\n    <path clip-path=\"url(#p990ecdf367)\" d=\"M 836.834375 575.03625 \nL 881.474375 575.03625 \nL 881.474375 549.150536 \nL 836.834375 549.150536 \nz\n\" style=\"fill:#692c75;stroke:#ffffff;stroke-linejoin:miter;\"/>\n   </g>\n   <g id=\"patch_11\">\n    <path clip-path=\"url(#p990ecdf367)\" d=\"M 948.434375 575.03625 \nL 993.074375 575.03625 \nL 993.074375 540.521964 \nL 948.434375 540.521964 \nz\n\" style=\"fill:#692c75;stroke:#ffffff;stroke-linejoin:miter;\"/>\n   </g>\n   <g id=\"patch_12\">\n    <path clip-path=\"url(#p990ecdf367)\" d=\"M 1060.034375 575.03625 \nL 1104.674375 575.03625 \nL 1104.674375 566.407679 \nL 1060.034375 566.407679 \nz\n\" style=\"fill:#692c75;stroke:#ffffff;stroke-linejoin:miter;\"/>\n   </g>\n   <g id=\"patch_13\">\n    <path clip-path=\"url(#p990ecdf367)\" d=\"M 1171.634375 575.03625 \nL 1216.274375 575.03625 \nL 1216.274375 540.521964 \nL 1171.634375 540.521964 \nz\n\" style=\"fill:#692c75;stroke:#ffffff;stroke-linejoin:miter;\"/>\n   </g>\n   <g id=\"patch_14\">\n    <path clip-path=\"url(#p990ecdf367)\" d=\"M 1283.234375 575.03625 \nL 1327.874375 575.03625 \nL 1327.874375 557.779107 \nL 1283.234375 557.779107 \nz\n\" style=\"fill:#692c75;stroke:#ffffff;stroke-linejoin:miter;\"/>\n   </g>\n   <g id=\"patch_15\">\n    <path clip-path=\"url(#p990ecdf367)\" d=\"M 100.274375 575.03625 \nL 144.914375 575.03625 \nL 144.914375 273.03625 \nL 100.274375 273.03625 \nz\n\" style=\"fill:#de7270;stroke:#ffffff;stroke-linejoin:miter;\"/>\n   </g>\n   <g id=\"patch_16\">\n    <path clip-path=\"url(#p990ecdf367)\" d=\"M 211.874375 575.03625 \nL 256.514375 575.03625 \nL 256.514375 428.350536 \nL 211.874375 428.350536 \nz\n\" style=\"fill:#de7270;stroke:#ffffff;stroke-linejoin:miter;\"/>\n   </g>\n   <g id=\"patch_17\">\n    <path clip-path=\"url(#p990ecdf367)\" d=\"M 323.474375 575.03625 \nL 368.114375 575.03625 \nL 368.114375 221.264821 \nL 323.474375 221.264821 \nz\n\" style=\"fill:#de7270;stroke:#ffffff;stroke-linejoin:miter;\"/>\n   </g>\n   <g id=\"patch_18\">\n    <path clip-path=\"url(#p990ecdf367)\" d=\"M 435.074375 575.03625 \nL 479.714375 575.03625 \nL 479.714375 178.121964 \nL 435.074375 178.121964 \nz\n\" style=\"fill:#de7270;stroke:#ffffff;stroke-linejoin:miter;\"/>\n   </g>\n   <g id=\"patch_19\">\n    <path clip-path=\"url(#p990ecdf367)\" d=\"M 546.674375 575.03625 \nL 591.314375 575.03625 \nL 591.314375 195.379107 \nL 546.674375 195.379107 \nz\n\" style=\"fill:#de7270;stroke:#ffffff;stroke-linejoin:miter;\"/>\n   </g>\n   <g id=\"patch_20\">\n    <path clip-path=\"url(#p990ecdf367)\" d=\"M 658.274375 575.03625 \nL 702.914375 575.03625 \nL 702.914375 178.121964 \nL 658.274375 178.121964 \nz\n\" style=\"fill:#de7270;stroke:#ffffff;stroke-linejoin:miter;\"/>\n   </g>\n   <g id=\"patch_21\">\n    <path clip-path=\"url(#p990ecdf367)\" d=\"M 769.874375 575.03625 \nL 814.514375 575.03625 \nL 814.514375 212.63625 \nL 769.874375 212.63625 \nz\n\" style=\"fill:#de7270;stroke:#ffffff;stroke-linejoin:miter;\"/>\n   </g>\n   <g id=\"patch_22\">\n    <path clip-path=\"url(#p990ecdf367)\" d=\"M 881.474375 575.03625 \nL 926.114375 575.03625 \nL 926.114375 255.779107 \nL 881.474375 255.779107 \nz\n\" style=\"fill:#de7270;stroke:#ffffff;stroke-linejoin:miter;\"/>\n   </g>\n   <g id=\"patch_23\">\n    <path clip-path=\"url(#p990ecdf367)\" d=\"M 993.074375 575.03625 \nL 1037.714375 575.03625 \nL 1037.714375 186.750536 \nL 993.074375 186.750536 \nz\n\" style=\"fill:#de7270;stroke:#ffffff;stroke-linejoin:miter;\"/>\n   </g>\n   <g id=\"patch_24\">\n    <path clip-path=\"url(#p990ecdf367)\" d=\"M 1104.674375 575.03625 \nL 1149.314375 575.03625 \nL 1149.314375 238.521964 \nL 1104.674375 238.521964 \nz\n\" style=\"fill:#de7270;stroke:#ffffff;stroke-linejoin:miter;\"/>\n   </g>\n   <g id=\"patch_25\">\n    <path clip-path=\"url(#p990ecdf367)\" d=\"M 1216.274375 575.03625 \nL 1260.914375 575.03625 \nL 1260.914375 57.321964 \nL 1216.274375 57.321964 \nz\n\" style=\"fill:#de7270;stroke:#ffffff;stroke-linejoin:miter;\"/>\n   </g>\n   <g id=\"patch_26\">\n    <path clip-path=\"url(#p990ecdf367)\" d=\"M 1327.874375 575.03625 \nL 1372.514375 575.03625 \nL 1372.514375 264.407679 \nL 1327.874375 264.407679 \nz\n\" style=\"fill:#de7270;stroke:#ffffff;stroke-linejoin:miter;\"/>\n   </g>\n   <g id=\"line2d_8\">\n    <path clip-path=\"url(#p990ecdf367)\" d=\"M 0 0 \n\" style=\"fill:none;stroke:#424242;stroke-linecap:round;stroke-width:2.7;\"/>\n   </g>\n   <g id=\"line2d_9\">\n    <path clip-path=\"url(#p990ecdf367)\" d=\"M 0 0 \n\" style=\"fill:none;stroke:#424242;stroke-linecap:round;stroke-width:2.7;\"/>\n   </g>\n   <g id=\"line2d_10\">\n    <path clip-path=\"url(#p990ecdf367)\" d=\"M 0 0 \n\" style=\"fill:none;stroke:#424242;stroke-linecap:round;stroke-width:2.7;\"/>\n   </g>\n   <g id=\"line2d_11\">\n    <path clip-path=\"url(#p990ecdf367)\" d=\"M 0 0 \n\" style=\"fill:none;stroke:#424242;stroke-linecap:round;stroke-width:2.7;\"/>\n   </g>\n   <g id=\"line2d_12\">\n    <path clip-path=\"url(#p990ecdf367)\" d=\"M 0 0 \n\" style=\"fill:none;stroke:#424242;stroke-linecap:round;stroke-width:2.7;\"/>\n   </g>\n   <g id=\"line2d_13\">\n    <path clip-path=\"url(#p990ecdf367)\" d=\"M 0 0 \n\" style=\"fill:none;stroke:#424242;stroke-linecap:round;stroke-width:2.7;\"/>\n   </g>\n   <g id=\"line2d_14\">\n    <path clip-path=\"url(#p990ecdf367)\" d=\"M 0 0 \n\" style=\"fill:none;stroke:#424242;stroke-linecap:round;stroke-width:2.7;\"/>\n   </g>\n   <g id=\"line2d_15\">\n    <path clip-path=\"url(#p990ecdf367)\" d=\"M 0 0 \n\" style=\"fill:none;stroke:#424242;stroke-linecap:round;stroke-width:2.7;\"/>\n   </g>\n   <g id=\"line2d_16\">\n    <path clip-path=\"url(#p990ecdf367)\" d=\"M 0 0 \n\" style=\"fill:none;stroke:#424242;stroke-linecap:round;stroke-width:2.7;\"/>\n   </g>\n   <g id=\"line2d_17\">\n    <path clip-path=\"url(#p990ecdf367)\" d=\"M 0 0 \n\" style=\"fill:none;stroke:#424242;stroke-linecap:round;stroke-width:2.7;\"/>\n   </g>\n   <g id=\"line2d_18\">\n    <path clip-path=\"url(#p990ecdf367)\" d=\"M 0 0 \n\" style=\"fill:none;stroke:#424242;stroke-linecap:round;stroke-width:2.7;\"/>\n   </g>\n   <g id=\"line2d_19\">\n    <path clip-path=\"url(#p990ecdf367)\" d=\"M 0 0 \n\" style=\"fill:none;stroke:#424242;stroke-linecap:round;stroke-width:2.7;\"/>\n   </g>\n   <g id=\"line2d_20\">\n    <path clip-path=\"url(#p990ecdf367)\" d=\"M 0 0 \n\" style=\"fill:none;stroke:#424242;stroke-linecap:round;stroke-width:2.7;\"/>\n   </g>\n   <g id=\"line2d_21\">\n    <path clip-path=\"url(#p990ecdf367)\" d=\"M 0 0 \n\" style=\"fill:none;stroke:#424242;stroke-linecap:round;stroke-width:2.7;\"/>\n   </g>\n   <g id=\"line2d_22\">\n    <path clip-path=\"url(#p990ecdf367)\" d=\"M 0 0 \n\" style=\"fill:none;stroke:#424242;stroke-linecap:round;stroke-width:2.7;\"/>\n   </g>\n   <g id=\"line2d_23\">\n    <path clip-path=\"url(#p990ecdf367)\" d=\"M 0 0 \n\" style=\"fill:none;stroke:#424242;stroke-linecap:round;stroke-width:2.7;\"/>\n   </g>\n   <g id=\"line2d_24\">\n    <path clip-path=\"url(#p990ecdf367)\" d=\"M 0 0 \n\" style=\"fill:none;stroke:#424242;stroke-linecap:round;stroke-width:2.7;\"/>\n   </g>\n   <g id=\"line2d_25\">\n    <path clip-path=\"url(#p990ecdf367)\" d=\"M 0 0 \n\" style=\"fill:none;stroke:#424242;stroke-linecap:round;stroke-width:2.7;\"/>\n   </g>\n   <g id=\"line2d_26\">\n    <path clip-path=\"url(#p990ecdf367)\" d=\"M 0 0 \n\" style=\"fill:none;stroke:#424242;stroke-linecap:round;stroke-width:2.7;\"/>\n   </g>\n   <g id=\"line2d_27\">\n    <path clip-path=\"url(#p990ecdf367)\" d=\"M 0 0 \n\" style=\"fill:none;stroke:#424242;stroke-linecap:round;stroke-width:2.7;\"/>\n   </g>\n   <g id=\"line2d_28\">\n    <path clip-path=\"url(#p990ecdf367)\" d=\"M 0 0 \n\" style=\"fill:none;stroke:#424242;stroke-linecap:round;stroke-width:2.7;\"/>\n   </g>\n   <g id=\"line2d_29\">\n    <path clip-path=\"url(#p990ecdf367)\" d=\"M 0 0 \n\" style=\"fill:none;stroke:#424242;stroke-linecap:round;stroke-width:2.7;\"/>\n   </g>\n   <g id=\"line2d_30\">\n    <path clip-path=\"url(#p990ecdf367)\" d=\"M 0 0 \n\" style=\"fill:none;stroke:#424242;stroke-linecap:round;stroke-width:2.7;\"/>\n   </g>\n   <g id=\"line2d_31\">\n    <path clip-path=\"url(#p990ecdf367)\" d=\"M 0 0 \n\" style=\"fill:none;stroke:#424242;stroke-linecap:round;stroke-width:2.7;\"/>\n   </g>\n   <g id=\"patch_27\">\n    <path d=\"M 44.474375 575.03625 \nL 44.474375 31.43625 \n\" style=\"fill:none;stroke:#ffffff;stroke-linecap:square;stroke-linejoin:miter;stroke-width:0.8;\"/>\n   </g>\n   <g id=\"patch_28\">\n    <path d=\"M 1383.674375 575.03625 \nL 1383.674375 31.43625 \n\" style=\"fill:none;stroke:#ffffff;stroke-linecap:square;stroke-linejoin:miter;stroke-width:0.8;\"/>\n   </g>\n   <g id=\"patch_29\">\n    <path d=\"M 44.474375 575.03625 \nL 1383.674375 575.03625 \n\" style=\"fill:none;stroke:#ffffff;stroke-linecap:square;stroke-linejoin:miter;stroke-width:0.8;\"/>\n   </g>\n   <g id=\"patch_30\">\n    <path d=\"M 44.474375 31.43625 \nL 1383.674375 31.43625 \n\" style=\"fill:none;stroke:#ffffff;stroke-linecap:square;stroke-linejoin:miter;stroke-width:0.8;\"/>\n   </g>\n   <g id=\"text_22\">\n    <!-- Solar Flare Count per Month -->\n    <g style=\"fill:#262626;\" transform=\"translate(545.42 25.43625)scale(0.24 -0.24)\">\n     <use xlink:href=\"#DejaVuSans-83\"/>\n     <use x=\"63.476562\" xlink:href=\"#DejaVuSans-111\"/>\n     <use x=\"124.658203\" xlink:href=\"#DejaVuSans-108\"/>\n     <use x=\"152.441406\" xlink:href=\"#DejaVuSans-97\"/>\n     <use x=\"213.720703\" xlink:href=\"#DejaVuSans-114\"/>\n     <use x=\"254.833984\" xlink:href=\"#DejaVuSans-32\"/>\n     <use x=\"286.621094\" xlink:href=\"#DejaVuSans-70\"/>\n     <use x=\"344.140625\" xlink:href=\"#DejaVuSans-108\"/>\n     <use x=\"371.923828\" xlink:href=\"#DejaVuSans-97\"/>\n     <use x=\"433.203125\" xlink:href=\"#DejaVuSans-114\"/>\n     <use x=\"472.066406\" xlink:href=\"#DejaVuSans-101\"/>\n     <use x=\"533.589844\" xlink:href=\"#DejaVuSans-32\"/>\n     <use x=\"565.376953\" xlink:href=\"#DejaVuSans-67\"/>\n     <use x=\"635.201172\" xlink:href=\"#DejaVuSans-111\"/>\n     <use x=\"696.382812\" xlink:href=\"#DejaVuSans-117\"/>\n     <use x=\"759.761719\" xlink:href=\"#DejaVuSans-110\"/>\n     <use x=\"823.140625\" xlink:href=\"#DejaVuSans-116\"/>\n     <use x=\"862.349609\" xlink:href=\"#DejaVuSans-32\"/>\n     <use x=\"894.136719\" xlink:href=\"#DejaVuSans-112\"/>\n     <use x=\"957.613281\" xlink:href=\"#DejaVuSans-101\"/>\n     <use x=\"1019.136719\" xlink:href=\"#DejaVuSans-114\"/>\n     <use x=\"1060.25\" xlink:href=\"#DejaVuSans-32\"/>\n     <use x=\"1092.037109\" xlink:href=\"#DejaVuSans-77\"/>\n     <use x=\"1178.316406\" xlink:href=\"#DejaVuSans-111\"/>\n     <use x=\"1239.498047\" xlink:href=\"#DejaVuSans-110\"/>\n     <use x=\"1302.876953\" xlink:href=\"#DejaVuSans-116\"/>\n     <use x=\"1342.085938\" xlink:href=\"#DejaVuSans-104\"/>\n    </g>\n   </g>\n   <g id=\"legend_1\">\n    <g id=\"patch_31\">\n     <path d=\"M 660.443125 91.20625 \nL 767.705625 91.20625 \nQ 770.905625 91.20625 770.905625 88.00625 \nL 770.905625 42.63625 \nQ 770.905625 39.43625 767.705625 39.43625 \nL 660.443125 39.43625 \nQ 657.243125 39.43625 657.243125 42.63625 \nL 657.243125 88.00625 \nQ 657.243125 91.20625 660.443125 91.20625 \nz\n\" style=\"fill:#eaeaf2;opacity:0.8;stroke:#cccccc;stroke-linejoin:miter;\"/>\n    </g>\n    <g id=\"patch_32\">\n     <path d=\"M 663.643125 57.99375 \nL 695.643125 57.99375 \nL 695.643125 46.79375 \nL 663.643125 46.79375 \nz\n\" style=\"fill:#692c75;stroke:#ffffff;stroke-linejoin:miter;\"/>\n    </g>\n    <g id=\"text_23\">\n     <!-- strong -->\n     <g style=\"fill:#262626;\" transform=\"translate(708.443125 57.99375)scale(0.16 -0.16)\">\n      <defs>\n       <path d=\"M 44.28125 53.078125 \nL 44.28125 44.578125 \nQ 40.484375 46.53125 36.375 47.5 \nQ 32.28125 48.484375 27.875 48.484375 \nQ 21.1875 48.484375 17.84375 46.4375 \nQ 14.5 44.390625 14.5 40.28125 \nQ 14.5 37.15625 16.890625 35.375 \nQ 19.28125 33.59375 26.515625 31.984375 \nL 29.59375 31.296875 \nQ 39.15625 29.25 43.1875 25.515625 \nQ 47.21875 21.78125 47.21875 15.09375 \nQ 47.21875 7.46875 41.1875 3.015625 \nQ 35.15625 -1.421875 24.609375 -1.421875 \nQ 20.21875 -1.421875 15.453125 -0.5625 \nQ 10.6875 0.296875 5.421875 2 \nL 5.421875 11.28125 \nQ 10.40625 8.6875 15.234375 7.390625 \nQ 20.0625 6.109375 24.8125 6.109375 \nQ 31.15625 6.109375 34.5625 8.28125 \nQ 37.984375 10.453125 37.984375 14.40625 \nQ 37.984375 18.0625 35.515625 20.015625 \nQ 33.0625 21.96875 24.703125 23.78125 \nL 21.578125 24.515625 \nQ 13.234375 26.265625 9.515625 29.90625 \nQ 5.8125 33.546875 5.8125 39.890625 \nQ 5.8125 47.609375 11.28125 51.796875 \nQ 16.75 56 26.8125 56 \nQ 31.78125 56 36.171875 55.265625 \nQ 40.578125 54.546875 44.28125 53.078125 \nz\n\" id=\"DejaVuSans-115\"/>\n      </defs>\n      <use xlink:href=\"#DejaVuSans-115\"/>\n      <use x=\"52.099609\" xlink:href=\"#DejaVuSans-116\"/>\n      <use x=\"91.308594\" xlink:href=\"#DejaVuSans-114\"/>\n      <use x=\"130.171875\" xlink:href=\"#DejaVuSans-111\"/>\n      <use x=\"191.353516\" xlink:href=\"#DejaVuSans-110\"/>\n      <use x=\"254.732422\" xlink:href=\"#DejaVuSans-103\"/>\n     </g>\n    </g>\n    <g id=\"patch_33\">\n     <path d=\"M 663.643125 81.47875 \nL 695.643125 81.47875 \nL 695.643125 70.27875 \nL 663.643125 70.27875 \nz\n\" style=\"fill:#de7270;stroke:#ffffff;stroke-linejoin:miter;\"/>\n    </g>\n    <g id=\"text_24\">\n     <!-- normal -->\n     <g style=\"fill:#262626;\" transform=\"translate(708.443125 81.47875)scale(0.16 -0.16)\">\n      <defs>\n       <path d=\"M 52 44.1875 \nQ 55.375 50.25 60.0625 53.125 \nQ 64.75 56 71.09375 56 \nQ 79.640625 56 84.28125 50.015625 \nQ 88.921875 44.046875 88.921875 33.015625 \nL 88.921875 0 \nL 79.890625 0 \nL 79.890625 32.71875 \nQ 79.890625 40.578125 77.09375 44.375 \nQ 74.3125 48.1875 68.609375 48.1875 \nQ 61.625 48.1875 57.5625 43.546875 \nQ 53.515625 38.921875 53.515625 30.90625 \nL 53.515625 0 \nL 44.484375 0 \nL 44.484375 32.71875 \nQ 44.484375 40.625 41.703125 44.40625 \nQ 38.921875 48.1875 33.109375 48.1875 \nQ 26.21875 48.1875 22.15625 43.53125 \nQ 18.109375 38.875 18.109375 30.90625 \nL 18.109375 0 \nL 9.078125 0 \nL 9.078125 54.6875 \nL 18.109375 54.6875 \nL 18.109375 46.1875 \nQ 21.1875 51.21875 25.484375 53.609375 \nQ 29.78125 56 35.6875 56 \nQ 41.65625 56 45.828125 52.96875 \nQ 50 49.953125 52 44.1875 \nz\n\" id=\"DejaVuSans-109\"/>\n      </defs>\n      <use xlink:href=\"#DejaVuSans-110\"/>\n      <use x=\"63.378906\" xlink:href=\"#DejaVuSans-111\"/>\n      <use x=\"124.560547\" xlink:href=\"#DejaVuSans-114\"/>\n      <use x=\"163.923828\" xlink:href=\"#DejaVuSans-109\"/>\n      <use x=\"261.335938\" xlink:href=\"#DejaVuSans-97\"/>\n      <use x=\"322.615234\" xlink:href=\"#DejaVuSans-108\"/>\n     </g>\n    </g>\n   </g>\n  </g>\n </g>\n <defs>\n  <clipPath id=\"p990ecdf367\">\n   <rect height=\"543.6\" width=\"1339.2\" x=\"44.474375\" y=\"31.43625\"/>\n  </clipPath>\n </defs>\n</svg>\n",
      "image/png": "[encoded data removed]"
     },
     "metadata": {
      "needs_background": "light"
     }
    }
   ],
   "source": [
    "%matplotlib inline\n",
    "\n",
    "# formatting the plot\n",
    "plt.figure(figsize=(24,10))\n",
    "sns.set_style('darkgrid')\n",
    "bplot = sns.barplot(x='Month', y='Count', hue='Class', palette='magma', data=gb_melted)\n",
    "bplot.set_xlabel('Month', size=18)\n",
    "bplot.set_ylabel('Flare Count', size=14)\n",
    "bplot.set_title('Solar Flare Count per Month', size=24)\n",
    "plt.legend(fontsize=16, loc=9)\n",
    "\n",
    "plt.show()"
   ]
  },
  {
   "source": [
    "From the plot we can see that both the number of normal flares and the nubmer of strong flares per month are relatively equally distributed. Further analysis could be conducted to determine if any of the month's strong or normal counts have a statistically significant difference from the mean. But for now, at least visually we can confirm solar flares do not cluster around a certain month."
   ],
   "cell_type": "markdown",
   "metadata": {}
  }
 ],
 "metadata": {
  "kernelspec": {
   "display_name": "Python 3",
   "language": "python",
   "name": "python3"
  },
  "language_info": {
   "codemirror_mode": {
    "name": "ipython",
    "version": 3
   },
   "file_extension": ".py",
   "mimetype": "text/x-python",
   "name": "python",
   "nbconvert_exporter": "python",
   "pygments_lexer": "ipython3",
   "version": "3.8.5-final"
  }
 },
 "nbformat": 4,
 "nbformat_minor": 2
}